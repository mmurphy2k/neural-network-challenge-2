{
 "cells": [
  {
   "cell_type": "markdown",
   "metadata": {
    "id": "alIIEHibGc3M"
   },
   "source": [
    "## Part 1: Preprocessing"
   ]
  },
  {
   "cell_type": "code",
   "execution_count": 1,
   "metadata": {
    "colab": {
     "base_uri": "https://localhost:8080/",
     "height": 321
    },
    "executionInfo": {
     "elapsed": 6227,
     "status": "ok",
     "timestamp": 1741571310067,
     "user": {
      "displayName": "Mark Murphy",
      "userId": "15217318969884007144"
     },
     "user_tz": 240
    },
    "id": "6eDUJ4NtGc3P",
    "outputId": "c0c17cc1-911f-46d6-de14-fb83f7b6a535"
   },
   "outputs": [
    {
     "name": "stderr",
     "output_type": "stream",
     "text": [
      "2025-03-13 17:29:17.619284: I tensorflow/core/platform/cpu_feature_guard.cc:210] This TensorFlow binary is optimized to use available CPU instructions in performance-critical operations.\n",
      "To enable the following instructions: AVX2 FMA, in other operations, rebuild TensorFlow with the appropriate compiler flags.\n"
     ]
    },
    {
     "data": {
      "text/html": [
       "<div>\n",
       "<style scoped>\n",
       "    .dataframe tbody tr th:only-of-type {\n",
       "        vertical-align: middle;\n",
       "    }\n",
       "\n",
       "    .dataframe tbody tr th {\n",
       "        vertical-align: top;\n",
       "    }\n",
       "\n",
       "    .dataframe thead th {\n",
       "        text-align: right;\n",
       "    }\n",
       "</style>\n",
       "<table border=\"1\" class=\"dataframe\">\n",
       "  <thead>\n",
       "    <tr style=\"text-align: right;\">\n",
       "      <th></th>\n",
       "      <th>Age</th>\n",
       "      <th>Attrition</th>\n",
       "      <th>BusinessTravel</th>\n",
       "      <th>Department</th>\n",
       "      <th>DistanceFromHome</th>\n",
       "      <th>Education</th>\n",
       "      <th>EducationField</th>\n",
       "      <th>EnvironmentSatisfaction</th>\n",
       "      <th>HourlyRate</th>\n",
       "      <th>JobInvolvement</th>\n",
       "      <th>...</th>\n",
       "      <th>PerformanceRating</th>\n",
       "      <th>RelationshipSatisfaction</th>\n",
       "      <th>StockOptionLevel</th>\n",
       "      <th>TotalWorkingYears</th>\n",
       "      <th>TrainingTimesLastYear</th>\n",
       "      <th>WorkLifeBalance</th>\n",
       "      <th>YearsAtCompany</th>\n",
       "      <th>YearsInCurrentRole</th>\n",
       "      <th>YearsSinceLastPromotion</th>\n",
       "      <th>YearsWithCurrManager</th>\n",
       "    </tr>\n",
       "  </thead>\n",
       "  <tbody>\n",
       "    <tr>\n",
       "      <th>0</th>\n",
       "      <td>41</td>\n",
       "      <td>Yes</td>\n",
       "      <td>Travel_Rarely</td>\n",
       "      <td>Sales</td>\n",
       "      <td>1</td>\n",
       "      <td>2</td>\n",
       "      <td>Life Sciences</td>\n",
       "      <td>2</td>\n",
       "      <td>94</td>\n",
       "      <td>3</td>\n",
       "      <td>...</td>\n",
       "      <td>3</td>\n",
       "      <td>1</td>\n",
       "      <td>0</td>\n",
       "      <td>8</td>\n",
       "      <td>0</td>\n",
       "      <td>1</td>\n",
       "      <td>6</td>\n",
       "      <td>4</td>\n",
       "      <td>0</td>\n",
       "      <td>5</td>\n",
       "    </tr>\n",
       "    <tr>\n",
       "      <th>1</th>\n",
       "      <td>49</td>\n",
       "      <td>No</td>\n",
       "      <td>Travel_Frequently</td>\n",
       "      <td>Research &amp; Development</td>\n",
       "      <td>8</td>\n",
       "      <td>1</td>\n",
       "      <td>Life Sciences</td>\n",
       "      <td>3</td>\n",
       "      <td>61</td>\n",
       "      <td>2</td>\n",
       "      <td>...</td>\n",
       "      <td>4</td>\n",
       "      <td>4</td>\n",
       "      <td>1</td>\n",
       "      <td>10</td>\n",
       "      <td>3</td>\n",
       "      <td>3</td>\n",
       "      <td>10</td>\n",
       "      <td>7</td>\n",
       "      <td>1</td>\n",
       "      <td>7</td>\n",
       "    </tr>\n",
       "    <tr>\n",
       "      <th>2</th>\n",
       "      <td>37</td>\n",
       "      <td>Yes</td>\n",
       "      <td>Travel_Rarely</td>\n",
       "      <td>Research &amp; Development</td>\n",
       "      <td>2</td>\n",
       "      <td>2</td>\n",
       "      <td>Other</td>\n",
       "      <td>4</td>\n",
       "      <td>92</td>\n",
       "      <td>2</td>\n",
       "      <td>...</td>\n",
       "      <td>3</td>\n",
       "      <td>2</td>\n",
       "      <td>0</td>\n",
       "      <td>7</td>\n",
       "      <td>3</td>\n",
       "      <td>3</td>\n",
       "      <td>0</td>\n",
       "      <td>0</td>\n",
       "      <td>0</td>\n",
       "      <td>0</td>\n",
       "    </tr>\n",
       "    <tr>\n",
       "      <th>3</th>\n",
       "      <td>33</td>\n",
       "      <td>No</td>\n",
       "      <td>Travel_Frequently</td>\n",
       "      <td>Research &amp; Development</td>\n",
       "      <td>3</td>\n",
       "      <td>4</td>\n",
       "      <td>Life Sciences</td>\n",
       "      <td>4</td>\n",
       "      <td>56</td>\n",
       "      <td>3</td>\n",
       "      <td>...</td>\n",
       "      <td>3</td>\n",
       "      <td>3</td>\n",
       "      <td>0</td>\n",
       "      <td>8</td>\n",
       "      <td>3</td>\n",
       "      <td>3</td>\n",
       "      <td>8</td>\n",
       "      <td>7</td>\n",
       "      <td>3</td>\n",
       "      <td>0</td>\n",
       "    </tr>\n",
       "    <tr>\n",
       "      <th>4</th>\n",
       "      <td>27</td>\n",
       "      <td>No</td>\n",
       "      <td>Travel_Rarely</td>\n",
       "      <td>Research &amp; Development</td>\n",
       "      <td>2</td>\n",
       "      <td>1</td>\n",
       "      <td>Medical</td>\n",
       "      <td>1</td>\n",
       "      <td>40</td>\n",
       "      <td>3</td>\n",
       "      <td>...</td>\n",
       "      <td>3</td>\n",
       "      <td>4</td>\n",
       "      <td>1</td>\n",
       "      <td>6</td>\n",
       "      <td>3</td>\n",
       "      <td>3</td>\n",
       "      <td>2</td>\n",
       "      <td>2</td>\n",
       "      <td>2</td>\n",
       "      <td>2</td>\n",
       "    </tr>\n",
       "  </tbody>\n",
       "</table>\n",
       "<p>5 rows × 27 columns</p>\n",
       "</div>"
      ],
      "text/plain": [
       "   Age Attrition     BusinessTravel              Department  DistanceFromHome  \\\n",
       "0   41       Yes      Travel_Rarely                   Sales                 1   \n",
       "1   49        No  Travel_Frequently  Research & Development                 8   \n",
       "2   37       Yes      Travel_Rarely  Research & Development                 2   \n",
       "3   33        No  Travel_Frequently  Research & Development                 3   \n",
       "4   27        No      Travel_Rarely  Research & Development                 2   \n",
       "\n",
       "   Education EducationField  EnvironmentSatisfaction  HourlyRate  \\\n",
       "0          2  Life Sciences                        2          94   \n",
       "1          1  Life Sciences                        3          61   \n",
       "2          2          Other                        4          92   \n",
       "3          4  Life Sciences                        4          56   \n",
       "4          1        Medical                        1          40   \n",
       "\n",
       "   JobInvolvement  ...  PerformanceRating RelationshipSatisfaction  \\\n",
       "0               3  ...                  3                        1   \n",
       "1               2  ...                  4                        4   \n",
       "2               2  ...                  3                        2   \n",
       "3               3  ...                  3                        3   \n",
       "4               3  ...                  3                        4   \n",
       "\n",
       "   StockOptionLevel TotalWorkingYears  TrainingTimesLastYear WorkLifeBalance  \\\n",
       "0                 0                 8                      0               1   \n",
       "1                 1                10                      3               3   \n",
       "2                 0                 7                      3               3   \n",
       "3                 0                 8                      3               3   \n",
       "4                 1                 6                      3               3   \n",
       "\n",
       "   YearsAtCompany  YearsInCurrentRole  YearsSinceLastPromotion  \\\n",
       "0               6                   4                        0   \n",
       "1              10                   7                        1   \n",
       "2               0                   0                        0   \n",
       "3               8                   7                        3   \n",
       "4               2                   2                        2   \n",
       "\n",
       "   YearsWithCurrManager  \n",
       "0                     5  \n",
       "1                     7  \n",
       "2                     0  \n",
       "3                     0  \n",
       "4                     2  \n",
       "\n",
       "[5 rows x 27 columns]"
      ]
     },
     "execution_count": 1,
     "metadata": {},
     "output_type": "execute_result"
    }
   ],
   "source": [
    "# Import our dependencies\n",
    "from sklearn.model_selection import train_test_split\n",
    "from sklearn.preprocessing import StandardScaler\n",
    "import pandas as pd\n",
    "import numpy as np\n",
    "from tensorflow.keras.models import Model\n",
    "from tensorflow.keras import layers\n",
    "\n",
    "#  Import and read the attrition data\n",
    "attrition_df = pd.read_csv('https://static.bc-edx.com/ai/ail-v-1-0/m19/lms/datasets/attrition.csv')\n",
    "attrition_df.head()"
   ]
  },
  {
   "cell_type": "code",
   "execution_count": 2,
   "metadata": {
    "colab": {
     "base_uri": "https://localhost:8080/",
     "height": 920
    },
    "executionInfo": {
     "elapsed": 14,
     "status": "ok",
     "timestamp": 1741571316957,
     "user": {
      "displayName": "Mark Murphy",
      "userId": "15217318969884007144"
     },
     "user_tz": 240
    },
    "id": "g22aQSY4Gc3Q",
    "outputId": "8e3356c0-a898-4339-9ecb-d81b031c47ec"
   },
   "outputs": [
    {
     "data": {
      "text/plain": [
       "Age                         43\n",
       "Attrition                    2\n",
       "BusinessTravel               3\n",
       "Department                   3\n",
       "DistanceFromHome            29\n",
       "Education                    5\n",
       "EducationField               6\n",
       "EnvironmentSatisfaction      4\n",
       "HourlyRate                  71\n",
       "JobInvolvement               4\n",
       "JobLevel                     5\n",
       "JobRole                      9\n",
       "JobSatisfaction              4\n",
       "MaritalStatus                3\n",
       "NumCompaniesWorked          10\n",
       "OverTime                     2\n",
       "PercentSalaryHike           15\n",
       "PerformanceRating            2\n",
       "RelationshipSatisfaction     4\n",
       "StockOptionLevel             4\n",
       "TotalWorkingYears           40\n",
       "TrainingTimesLastYear        7\n",
       "WorkLifeBalance              4\n",
       "YearsAtCompany              37\n",
       "YearsInCurrentRole          19\n",
       "YearsSinceLastPromotion     16\n",
       "YearsWithCurrManager        18\n",
       "dtype: int64"
      ]
     },
     "execution_count": 2,
     "metadata": {},
     "output_type": "execute_result"
    }
   ],
   "source": [
    "# Determine the number of unique values in each column\n",
    "attrition_df.nunique()"
   ]
  },
  {
   "cell_type": "code",
   "execution_count": 3,
   "metadata": {
    "colab": {
     "base_uri": "https://localhost:8080/",
     "height": 204
    },
    "executionInfo": {
     "elapsed": 15,
     "status": "ok",
     "timestamp": 1741571322567,
     "user": {
      "displayName": "Mark Murphy",
      "userId": "15217318969884007144"
     },
     "user_tz": 240
    },
    "id": "50vMgBEnJbfM",
    "outputId": "a1d6c3e4-a9b2-4a78-9ce3-a9ee3e6426dd"
   },
   "outputs": [
    {
     "data": {
      "text/html": [
       "<div>\n",
       "<style scoped>\n",
       "    .dataframe tbody tr th:only-of-type {\n",
       "        vertical-align: middle;\n",
       "    }\n",
       "\n",
       "    .dataframe tbody tr th {\n",
       "        vertical-align: top;\n",
       "    }\n",
       "\n",
       "    .dataframe thead th {\n",
       "        text-align: right;\n",
       "    }\n",
       "</style>\n",
       "<table border=\"1\" class=\"dataframe\">\n",
       "  <thead>\n",
       "    <tr style=\"text-align: right;\">\n",
       "      <th></th>\n",
       "      <th>Attrition</th>\n",
       "      <th>Department</th>\n",
       "    </tr>\n",
       "  </thead>\n",
       "  <tbody>\n",
       "    <tr>\n",
       "      <th>0</th>\n",
       "      <td>Yes</td>\n",
       "      <td>Sales</td>\n",
       "    </tr>\n",
       "    <tr>\n",
       "      <th>1</th>\n",
       "      <td>No</td>\n",
       "      <td>Research &amp; Development</td>\n",
       "    </tr>\n",
       "    <tr>\n",
       "      <th>2</th>\n",
       "      <td>Yes</td>\n",
       "      <td>Research &amp; Development</td>\n",
       "    </tr>\n",
       "    <tr>\n",
       "      <th>3</th>\n",
       "      <td>No</td>\n",
       "      <td>Research &amp; Development</td>\n",
       "    </tr>\n",
       "    <tr>\n",
       "      <th>4</th>\n",
       "      <td>No</td>\n",
       "      <td>Research &amp; Development</td>\n",
       "    </tr>\n",
       "  </tbody>\n",
       "</table>\n",
       "</div>"
      ],
      "text/plain": [
       "  Attrition              Department\n",
       "0       Yes                   Sales\n",
       "1        No  Research & Development\n",
       "2       Yes  Research & Development\n",
       "3        No  Research & Development\n",
       "4        No  Research & Development"
      ]
     },
     "execution_count": 3,
     "metadata": {},
     "output_type": "execute_result"
    }
   ],
   "source": [
    "# Create y_df with the Attrition and Department columns\n",
    "y_df = attrition_df[['Attrition', 'Department']]\n",
    "y_df.head()"
   ]
  },
  {
   "cell_type": "code",
   "execution_count": 4,
   "metadata": {
    "colab": {
     "base_uri": "https://localhost:8080/",
     "height": 580
    },
    "executionInfo": {
     "elapsed": 34,
     "status": "ok",
     "timestamp": 1741571326518,
     "user": {
      "displayName": "Mark Murphy",
      "userId": "15217318969884007144"
     },
     "user_tz": 240
    },
    "id": "Virka0zLGc3R",
    "outputId": "2c20796e-63c3-49d3-e13a-aec9706db624"
   },
   "outputs": [
    {
     "data": {
      "text/html": [
       "<div>\n",
       "<style scoped>\n",
       "    .dataframe tbody tr th:only-of-type {\n",
       "        vertical-align: middle;\n",
       "    }\n",
       "\n",
       "    .dataframe tbody tr th {\n",
       "        vertical-align: top;\n",
       "    }\n",
       "\n",
       "    .dataframe thead th {\n",
       "        text-align: right;\n",
       "    }\n",
       "</style>\n",
       "<table border=\"1\" class=\"dataframe\">\n",
       "  <thead>\n",
       "    <tr style=\"text-align: right;\">\n",
       "      <th></th>\n",
       "      <th>Education</th>\n",
       "      <th>Age</th>\n",
       "      <th>DistanceFromHome</th>\n",
       "      <th>JobSatisfaction</th>\n",
       "      <th>OverTime</th>\n",
       "      <th>StockOptionLevel</th>\n",
       "      <th>WorkLifeBalance</th>\n",
       "      <th>YearsAtCompany</th>\n",
       "      <th>YearsSinceLastPromotion</th>\n",
       "      <th>NumCompaniesWorked</th>\n",
       "    </tr>\n",
       "  </thead>\n",
       "  <tbody>\n",
       "    <tr>\n",
       "      <th>0</th>\n",
       "      <td>2</td>\n",
       "      <td>41</td>\n",
       "      <td>1</td>\n",
       "      <td>4</td>\n",
       "      <td>Yes</td>\n",
       "      <td>0</td>\n",
       "      <td>1</td>\n",
       "      <td>6</td>\n",
       "      <td>0</td>\n",
       "      <td>8</td>\n",
       "    </tr>\n",
       "    <tr>\n",
       "      <th>1</th>\n",
       "      <td>1</td>\n",
       "      <td>49</td>\n",
       "      <td>8</td>\n",
       "      <td>2</td>\n",
       "      <td>No</td>\n",
       "      <td>1</td>\n",
       "      <td>3</td>\n",
       "      <td>10</td>\n",
       "      <td>1</td>\n",
       "      <td>1</td>\n",
       "    </tr>\n",
       "    <tr>\n",
       "      <th>2</th>\n",
       "      <td>2</td>\n",
       "      <td>37</td>\n",
       "      <td>2</td>\n",
       "      <td>3</td>\n",
       "      <td>Yes</td>\n",
       "      <td>0</td>\n",
       "      <td>3</td>\n",
       "      <td>0</td>\n",
       "      <td>0</td>\n",
       "      <td>6</td>\n",
       "    </tr>\n",
       "    <tr>\n",
       "      <th>3</th>\n",
       "      <td>4</td>\n",
       "      <td>33</td>\n",
       "      <td>3</td>\n",
       "      <td>3</td>\n",
       "      <td>Yes</td>\n",
       "      <td>0</td>\n",
       "      <td>3</td>\n",
       "      <td>8</td>\n",
       "      <td>3</td>\n",
       "      <td>1</td>\n",
       "    </tr>\n",
       "    <tr>\n",
       "      <th>4</th>\n",
       "      <td>1</td>\n",
       "      <td>27</td>\n",
       "      <td>2</td>\n",
       "      <td>2</td>\n",
       "      <td>No</td>\n",
       "      <td>1</td>\n",
       "      <td>3</td>\n",
       "      <td>2</td>\n",
       "      <td>2</td>\n",
       "      <td>9</td>\n",
       "    </tr>\n",
       "  </tbody>\n",
       "</table>\n",
       "</div>"
      ],
      "text/plain": [
       "   Education  Age  DistanceFromHome  JobSatisfaction OverTime  \\\n",
       "0          2   41                 1                4      Yes   \n",
       "1          1   49                 8                2       No   \n",
       "2          2   37                 2                3      Yes   \n",
       "3          4   33                 3                3      Yes   \n",
       "4          1   27                 2                2       No   \n",
       "\n",
       "   StockOptionLevel  WorkLifeBalance  YearsAtCompany  YearsSinceLastPromotion  \\\n",
       "0                 0                1               6                        0   \n",
       "1                 1                3              10                        1   \n",
       "2                 0                3               0                        0   \n",
       "3                 0                3               8                        3   \n",
       "4                 1                3               2                        2   \n",
       "\n",
       "   NumCompaniesWorked  \n",
       "0                   8  \n",
       "1                   1  \n",
       "2                   6  \n",
       "3                   1  \n",
       "4                   9  "
      ]
     },
     "metadata": {},
     "output_type": "display_data"
    },
    {
     "data": {
      "text/plain": [
       "Education                   int64\n",
       "Age                         int64\n",
       "DistanceFromHome            int64\n",
       "JobSatisfaction             int64\n",
       "OverTime                   object\n",
       "StockOptionLevel            int64\n",
       "WorkLifeBalance             int64\n",
       "YearsAtCompany              int64\n",
       "YearsSinceLastPromotion     int64\n",
       "NumCompaniesWorked          int64\n",
       "dtype: object"
      ]
     },
     "metadata": {},
     "output_type": "display_data"
    }
   ],
   "source": [
    "# Create a list of at least 10 column names to use as X data\n",
    "X_columns = ['Education', 'Age', 'DistanceFromHome', 'JobSatisfaction', 'OverTime', 'StockOptionLevel', 'WorkLifeBalance', 'YearsAtCompany', 'YearsSinceLastPromotion', 'NumCompaniesWorked']\n",
    "\n",
    "# Create X_df using your selected columns\n",
    "X_df = attrition_df[X_columns]\n",
    "display(X_df.head())\n",
    "\n",
    "# Show the data types for X_df\n",
    "display(X_df.dtypes)\n"
   ]
  },
  {
   "cell_type": "code",
   "execution_count": 5,
   "metadata": {
    "executionInfo": {
     "elapsed": 5,
     "status": "ok",
     "timestamp": 1741571334926,
     "user": {
      "displayName": "Mark Murphy",
      "userId": "15217318969884007144"
     },
     "user_tz": 240
    },
    "id": "KaJfdOGUMHMR"
   },
   "outputs": [],
   "source": [
    "# Split the data into training and testing sets\n",
    "#from sklearn.model_selection import train_test_split\n",
    "X_train, X_test, y_train, y_test = train_test_split(X_df, y_df, random_state=1)\n"
   ]
  },
  {
   "cell_type": "code",
   "execution_count": 6,
   "metadata": {
    "colab": {
     "base_uri": "https://localhost:8080/",
     "height": 371
    },
    "executionInfo": {
     "elapsed": 73,
     "status": "ok",
     "timestamp": 1741571344843,
     "user": {
      "displayName": "Mark Murphy",
      "userId": "15217318969884007144"
     },
     "user_tz": 240
    },
    "id": "C34viYKtmIoz",
    "outputId": "d90406da-f13f-41d3-a3d3-b0f1c055affc"
   },
   "outputs": [
    {
     "data": {
      "text/plain": [
       "'X_train values:'"
      ]
     },
     "metadata": {},
     "output_type": "display_data"
    },
    {
     "data": {
      "text/plain": [
       "OverTime\n",
       "No     798\n",
       "Yes    304\n",
       "Name: count, dtype: int64"
      ]
     },
     "metadata": {},
     "output_type": "display_data"
    },
    {
     "data": {
      "text/plain": [
       "'X_test values'"
      ]
     },
     "metadata": {},
     "output_type": "display_data"
    },
    {
     "data": {
      "text/plain": [
       "OverTime\n",
       "No     256\n",
       "Yes    112\n",
       "Name: count, dtype: int64"
      ]
     },
     "metadata": {},
     "output_type": "display_data"
    }
   ],
   "source": [
    "# Verify 'OverTime' contains only 'Yes' and 'No' values\n",
    "display(f'X_train values:', X_train['OverTime'].value_counts())\n",
    "display(f'X_test values', X_test['OverTime'].value_counts())"
   ]
  },
  {
   "cell_type": "code",
   "execution_count": 7,
   "metadata": {
    "colab": {
     "base_uri": "https://localhost:8080/",
     "height": 204
    },
    "executionInfo": {
     "elapsed": 27,
     "status": "ok",
     "timestamp": 1741571349497,
     "user": {
      "displayName": "Mark Murphy",
      "userId": "15217318969884007144"
     },
     "user_tz": 240
    },
    "id": "NYubUJqiLCSp",
    "outputId": "540b8cbc-9f61-4c36-b340-b0eedebbf8f4"
   },
   "outputs": [
    {
     "data": {
      "text/html": [
       "<div>\n",
       "<style scoped>\n",
       "    .dataframe tbody tr th:only-of-type {\n",
       "        vertical-align: middle;\n",
       "    }\n",
       "\n",
       "    .dataframe tbody tr th {\n",
       "        vertical-align: top;\n",
       "    }\n",
       "\n",
       "    .dataframe thead th {\n",
       "        text-align: right;\n",
       "    }\n",
       "</style>\n",
       "<table border=\"1\" class=\"dataframe\">\n",
       "  <thead>\n",
       "    <tr style=\"text-align: right;\">\n",
       "      <th></th>\n",
       "      <th>Education</th>\n",
       "      <th>Age</th>\n",
       "      <th>DistanceFromHome</th>\n",
       "      <th>JobSatisfaction</th>\n",
       "      <th>OverTime</th>\n",
       "      <th>StockOptionLevel</th>\n",
       "      <th>WorkLifeBalance</th>\n",
       "      <th>YearsAtCompany</th>\n",
       "      <th>YearsSinceLastPromotion</th>\n",
       "      <th>NumCompaniesWorked</th>\n",
       "    </tr>\n",
       "  </thead>\n",
       "  <tbody>\n",
       "    <tr>\n",
       "      <th>464</th>\n",
       "      <td>3</td>\n",
       "      <td>37</td>\n",
       "      <td>1</td>\n",
       "      <td>4</td>\n",
       "      <td>0</td>\n",
       "      <td>0</td>\n",
       "      <td>4</td>\n",
       "      <td>6</td>\n",
       "      <td>1</td>\n",
       "      <td>4</td>\n",
       "    </tr>\n",
       "    <tr>\n",
       "      <th>512</th>\n",
       "      <td>4</td>\n",
       "      <td>27</td>\n",
       "      <td>3</td>\n",
       "      <td>4</td>\n",
       "      <td>0</td>\n",
       "      <td>0</td>\n",
       "      <td>3</td>\n",
       "      <td>4</td>\n",
       "      <td>1</td>\n",
       "      <td>0</td>\n",
       "    </tr>\n",
       "    <tr>\n",
       "      <th>480</th>\n",
       "      <td>4</td>\n",
       "      <td>30</td>\n",
       "      <td>12</td>\n",
       "      <td>1</td>\n",
       "      <td>0</td>\n",
       "      <td>1</td>\n",
       "      <td>4</td>\n",
       "      <td>1</td>\n",
       "      <td>0</td>\n",
       "      <td>1</td>\n",
       "    </tr>\n",
       "    <tr>\n",
       "      <th>680</th>\n",
       "      <td>4</td>\n",
       "      <td>36</td>\n",
       "      <td>7</td>\n",
       "      <td>4</td>\n",
       "      <td>0</td>\n",
       "      <td>0</td>\n",
       "      <td>3</td>\n",
       "      <td>6</td>\n",
       "      <td>0</td>\n",
       "      <td>2</td>\n",
       "    </tr>\n",
       "    <tr>\n",
       "      <th>1023</th>\n",
       "      <td>2</td>\n",
       "      <td>56</td>\n",
       "      <td>1</td>\n",
       "      <td>1</td>\n",
       "      <td>0</td>\n",
       "      <td>1</td>\n",
       "      <td>4</td>\n",
       "      <td>3</td>\n",
       "      <td>1</td>\n",
       "      <td>2</td>\n",
       "    </tr>\n",
       "  </tbody>\n",
       "</table>\n",
       "</div>"
      ],
      "text/plain": [
       "      Education  Age  DistanceFromHome  JobSatisfaction  OverTime  \\\n",
       "464           3   37                 1                4         0   \n",
       "512           4   27                 3                4         0   \n",
       "480           4   30                12                1         0   \n",
       "680           4   36                 7                4         0   \n",
       "1023          2   56                 1                1         0   \n",
       "\n",
       "      StockOptionLevel  WorkLifeBalance  YearsAtCompany  \\\n",
       "464                  0                4               6   \n",
       "512                  0                3               4   \n",
       "480                  1                4               1   \n",
       "680                  0                3               6   \n",
       "1023                 1                4               3   \n",
       "\n",
       "      YearsSinceLastPromotion  NumCompaniesWorked  \n",
       "464                         1                   4  \n",
       "512                         1                   0  \n",
       "480                         0                   1  \n",
       "680                         0                   2  \n",
       "1023                        1                   2  "
      ]
     },
     "execution_count": 7,
     "metadata": {},
     "output_type": "execute_result"
    }
   ],
   "source": [
    "# Convert your X data to numeric data types however you see fit\n",
    "# Add new code cells as necessary\n",
    "from sklearn.preprocessing import LabelEncoder\n",
    "\n",
    "# Create a LabelEncoder\n",
    "le = LabelEncoder()\n",
    "\n",
    "# Fit the LabelEncoder to the 'OverTime' column\n",
    "le.fit(X_train['OverTime'])\n",
    "\n",
    "# Convert 'OverTime' values to 0 and 1\n",
    "X_train['OverTime'] = le.transform(X_train['OverTime'])\n",
    "X_test['OverTime'] = le.transform(X_test['OverTime'])\n",
    "\n",
    "X_train.head()"
   ]
  },
  {
   "cell_type": "code",
   "execution_count": 8,
   "metadata": {
    "colab": {
     "base_uri": "https://localhost:8080/",
     "height": 552
    },
    "executionInfo": {
     "elapsed": 9,
     "status": "ok",
     "timestamp": 1741571354871,
     "user": {
      "displayName": "Mark Murphy",
      "userId": "15217318969884007144"
     },
     "user_tz": 240
    },
    "id": "2Wekm9zboTPh",
    "outputId": "7312cc61-796c-494e-9f31-3c91255bbee7"
   },
   "outputs": [
    {
     "data": {
      "text/plain": [
       "Education                  int64\n",
       "Age                        int64\n",
       "DistanceFromHome           int64\n",
       "JobSatisfaction            int64\n",
       "OverTime                   int64\n",
       "StockOptionLevel           int64\n",
       "WorkLifeBalance            int64\n",
       "YearsAtCompany             int64\n",
       "YearsSinceLastPromotion    int64\n",
       "NumCompaniesWorked         int64\n",
       "dtype: object"
      ]
     },
     "metadata": {},
     "output_type": "display_data"
    },
    {
     "data": {
      "text/plain": [
       "OverTime\n",
       "0    798\n",
       "1    304\n",
       "Name: count, dtype: int64"
      ]
     },
     "metadata": {},
     "output_type": "display_data"
    }
   ],
   "source": [
    " # Show the new data types for X_train\n",
    "display(X_train.dtypes)\n",
    "\n",
    "# Show the value counts for 'OverTime\n",
    "display(X_train['OverTime'].value_counts())"
   ]
  },
  {
   "cell_type": "code",
   "execution_count": 9,
   "metadata": {
    "executionInfo": {
     "elapsed": 5,
     "status": "ok",
     "timestamp": 1741571383056,
     "user": {
      "displayName": "Mark Murphy",
      "userId": "15217318969884007144"
     },
     "user_tz": 240
    },
    "id": "EWA-aIA5Gc3T"
   },
   "outputs": [
    {
     "data": {
      "text/plain": [
       "array([[ 8.08431209e-02, -5.97353422e-04, -1.00933748e+00,\n",
       "         1.16724719e+00, -6.17213400e-01, -9.29636300e-01,\n",
       "         1.79059231e+00, -1.42174403e-01, -3.50759886e-01,\n",
       "         5.05015829e-01],\n",
       "       [ 1.07072222e+00, -1.09773647e+00, -7.61501047e-01,\n",
       "         1.16724719e+00, -6.17213400e-01, -9.29636300e-01,\n",
       "         3.56556900e-01, -4.83145442e-01, -3.50759886e-01,\n",
       "        -1.09305292e+00],\n",
       "       [ 1.07072222e+00, -7.68594737e-01,  3.53762891e-01,\n",
       "        -1.58912368e+00, -6.17213400e-01,  2.53341994e-01,\n",
       "         1.79059231e+00, -9.94601999e-01, -6.63492406e-01,\n",
       "        -6.93535736e-01],\n",
       "       [ 1.07072222e+00, -1.10311265e-01, -2.65828186e-01,\n",
       "         1.16724719e+00, -6.17213400e-01, -9.29636300e-01,\n",
       "         3.56556900e-01, -1.42174403e-01, -6.63492406e-01,\n",
       "        -2.94018548e-01],\n",
       "       [-9.09035982e-01,  2.08396697e+00, -1.00933748e+00,\n",
       "        -1.58912368e+00, -6.17213400e-01,  2.53341994e-01,\n",
       "         1.79059231e+00, -6.53630961e-01, -3.50759886e-01,\n",
       "        -2.94018548e-01]])"
      ]
     },
     "execution_count": 9,
     "metadata": {},
     "output_type": "execute_result"
    }
   ],
   "source": [
    "# Create a StandardScaler\n",
    "scaler = StandardScaler()\n",
    "\n",
    "# Fit the StandardScaler to the training data\n",
    "scaler.fit(X_train)\n",
    "\n",
    "# Scale the training and testing data\n",
    "X_train_scaled = scaler.transform(X_train)\n",
    "X_test_scaled = scaler.transform(X_test)\n",
    "\n",
    "X_train_scaled[:5]"
   ]
  },
  {
   "cell_type": "code",
   "execution_count": 10,
   "metadata": {
    "colab": {
     "base_uri": "https://localhost:8080/",
     "height": 366
    },
    "executionInfo": {
     "elapsed": 14,
     "status": "ok",
     "timestamp": 1741574907933,
     "user": {
      "displayName": "Mark Murphy",
      "userId": "15217318969884007144"
     },
     "user_tz": 240
    },
    "id": "eX621E5Vu9V9",
    "outputId": "845dc755-f8c4-4623-c850-016a79af35d7"
   },
   "outputs": [
    {
     "data": {
      "text/plain": [
       "Department\n",
       "Research & Development    725\n",
       "Sales                     328\n",
       "Human Resources            49\n",
       "Name: count, dtype: int64"
      ]
     },
     "metadata": {},
     "output_type": "display_data"
    },
    {
     "data": {
      "text/plain": [
       "Attrition\n",
       "No     933\n",
       "Yes    169\n",
       "Name: count, dtype: int64"
      ]
     },
     "metadata": {},
     "output_type": "display_data"
    }
   ],
   "source": [
    "# Show the value counts for 'Department' and 'Attrition' \n",
    "display(y_train['Department'].value_counts())\n",
    "display(y_train['Attrition'].value_counts())"
   ]
  },
  {
   "cell_type": "code",
   "execution_count": 11,
   "metadata": {
    "colab": {
     "base_uri": "https://localhost:8080/"
    },
    "executionInfo": {
     "elapsed": 15,
     "status": "ok",
     "timestamp": 1741572792509,
     "user": {
      "displayName": "Mark Murphy",
      "userId": "15217318969884007144"
     },
     "user_tz": 240
    },
    "id": "-z0Mky8vQSz4",
    "outputId": "60792ad6-b2b6-425c-c929-2d0d743b1894"
   },
   "outputs": [
    {
     "data": {
      "text/plain": [
       "array([[0., 1., 0.],\n",
       "       [0., 1., 0.],\n",
       "       [0., 0., 1.],\n",
       "       ...,\n",
       "       [1., 0., 0.],\n",
       "       [0., 0., 1.],\n",
       "       [0., 0., 1.]])"
      ]
     },
     "execution_count": 11,
     "metadata": {},
     "output_type": "execute_result"
    }
   ],
   "source": [
    "from sklearn.preprocessing import OneHotEncoder\n",
    "\n",
    "# Create a OneHotEncoder for the Department colum\n",
    "department_encoder = OneHotEncoder(sparse_output=False)\n",
    "\n",
    "# Fit the encoder to the training data\n",
    "department_encoder.fit(y_train[['Department']])\n",
    "\n",
    "# Create two new variables by applying the encoder\n",
    "# to the training and testing data\n",
    "department_train_encoded = department_encoder.transform(y_train[['Department']])\n",
    "department_test_encoded = department_encoder.transform(y_test[['Department']])\n",
    "\n",
    "department_train_encoded"
   ]
  },
  {
   "cell_type": "code",
   "execution_count": 12,
   "metadata": {
    "colab": {
     "base_uri": "https://localhost:8080/"
    },
    "executionInfo": {
     "elapsed": 22,
     "status": "ok",
     "timestamp": 1741572973667,
     "user": {
      "displayName": "Mark Murphy",
      "userId": "15217318969884007144"
     },
     "user_tz": 240
    },
    "id": "-G4DSpvFRrk4",
    "outputId": "17b3a0d5-a5d6-4a75-9642-20c53ba84a6d"
   },
   "outputs": [
    {
     "data": {
      "text/plain": [
       "array([[1., 0.],\n",
       "       [1., 0.],\n",
       "       [0., 1.],\n",
       "       ...,\n",
       "       [1., 0.],\n",
       "       [1., 0.],\n",
       "       [1., 0.]])"
      ]
     },
     "execution_count": 12,
     "metadata": {},
     "output_type": "execute_result"
    }
   ],
   "source": [
    "# Create a OneHotEncoder for the Attrition column\n",
    "attrition_encoder = OneHotEncoder(sparse_output=False)\n",
    "#attrition_encoder = OneHotEncoder(sparse_output=False, drop='first')\n",
    "\n",
    "# Fit the encoder to the training data\n",
    "attrition_encoder.fit(y_train[['Attrition']])\n",
    "\n",
    "# Create two new variables by applying the encoder\n",
    "# to the training and testing data\n",
    "attrition_train_encoded = attrition_encoder.transform(y_train[['Attrition']])\n",
    "attrition_test_encoded = attrition_encoder.transform(y_test[['Attrition']])\n",
    "\n",
    "attrition_train_encoded"
   ]
  },
  {
   "cell_type": "markdown",
   "metadata": {
    "id": "ykNmu_WWGc3T"
   },
   "source": [
    "## Part 2: Create, Compile, and Train the Model"
   ]
  },
  {
   "cell_type": "code",
   "execution_count": 13,
   "metadata": {
    "executionInfo": {
     "elapsed": 102,
     "status": "ok",
     "timestamp": 1741574430364,
     "user": {
      "displayName": "Mark Murphy",
      "userId": "15217318969884007144"
     },
     "user_tz": 240
    },
    "id": "WUptZqmSGc3T"
   },
   "outputs": [],
   "source": [
    "# Find the number of columns in the X training data.\n",
    "input_features = X_train_scaled.shape[1]\n",
    "\n",
    "# Create the input layer\n",
    "input_layer = layers.Input(shape=(input_features,), name='input')\n",
    "\n",
    "# Create at least two shared layers\n",
    "shared_layer_1 = layers.Dense(units=64, activation='relu', name='shared1')(input_layer)\n",
    "shared_layer_2 = layers.Dense(units=128, activation='relu', name='shared2')(shared_layer_1)\n"
   ]
  },
  {
   "cell_type": "code",
   "execution_count": 14,
   "metadata": {
    "executionInfo": {
     "elapsed": 26,
     "status": "ok",
     "timestamp": 1741574929162,
     "user": {
      "displayName": "Mark Murphy",
      "userId": "15217318969884007144"
     },
     "user_tz": 240
    },
    "id": "JukjTm2yTEqd"
   },
   "outputs": [],
   "source": [
    "# Create a branch for Department\n",
    "# with a hidden layer and an output layer\n",
    "\n",
    "# Create the hidden layer\n",
    "department_dense = layers.Dense(units=32, activation='relu', name='department_hidden')(shared_layer_2)\n",
    "\n",
    "# Create the output layer\n",
    "department_output = layers.Dense(department_train_encoded.shape[1], activation='softmax', name='department_output')(department_dense)"
   ]
  },
  {
   "cell_type": "code",
   "execution_count": 15,
   "metadata": {
    "executionInfo": {
     "elapsed": 17,
     "status": "ok",
     "timestamp": 1741574933466,
     "user": {
      "displayName": "Mark Murphy",
      "userId": "15217318969884007144"
     },
     "user_tz": 240
    },
    "id": "9OqhUiOJUBkR"
   },
   "outputs": [],
   "source": [
    "# Create a branch for Attrition\n",
    "# with a hidden layer and an output layer\n",
    "\n",
    "# Create the hidden layer\n",
    "attrition_dense = layers.Dense(units=32, activation='relu', name='attrition_hidden')(shared_layer_2)\n",
    "\n",
    "# Create the output layer\n",
    "attrition_output = layers.Dense(attrition_train_encoded.shape[1], activation='sigmoid', name='attrition_output')(attrition_dense)"
   ]
  },
  {
   "cell_type": "code",
   "execution_count": 16,
   "metadata": {
    "colab": {
     "base_uri": "https://localhost:8080/",
     "height": 353
    },
    "executionInfo": {
     "elapsed": 8,
     "status": "ok",
     "timestamp": 1741575437798,
     "user": {
      "displayName": "Mark Murphy",
      "userId": "15217318969884007144"
     },
     "user_tz": 240
    },
    "id": "twmuejdxGc3T",
    "outputId": "73bd898e-e575-49ec-bcde-a8b4bc4740c1"
   },
   "outputs": [
    {
     "data": {
      "text/html": [
       "<pre style=\"white-space:pre;overflow-x:auto;line-height:normal;font-family:Menlo,'DejaVu Sans Mono',consolas,'Courier New',monospace\"><span style=\"font-weight: bold\">Model: \"functional\"</span>\n",
       "</pre>\n"
      ],
      "text/plain": [
       "\u001b[1mModel: \"functional\"\u001b[0m\n"
      ]
     },
     "metadata": {},
     "output_type": "display_data"
    },
    {
     "data": {
      "text/html": [
       "<pre style=\"white-space:pre;overflow-x:auto;line-height:normal;font-family:Menlo,'DejaVu Sans Mono',consolas,'Courier New',monospace\">┏━━━━━━━━━━━━━━━━━━━━━┳━━━━━━━━━━━━━━━━━━━┳━━━━━━━━━━━━┳━━━━━━━━━━━━━━━━━━━┓\n",
       "┃<span style=\"font-weight: bold\"> Layer (type)        </span>┃<span style=\"font-weight: bold\"> Output Shape      </span>┃<span style=\"font-weight: bold\">    Param # </span>┃<span style=\"font-weight: bold\"> Connected to      </span>┃\n",
       "┡━━━━━━━━━━━━━━━━━━━━━╇━━━━━━━━━━━━━━━━━━━╇━━━━━━━━━━━━╇━━━━━━━━━━━━━━━━━━━┩\n",
       "│ input (<span style=\"color: #0087ff; text-decoration-color: #0087ff\">InputLayer</span>)  │ (<span style=\"color: #00d7ff; text-decoration-color: #00d7ff\">None</span>, <span style=\"color: #00af00; text-decoration-color: #00af00\">10</span>)        │          <span style=\"color: #00af00; text-decoration-color: #00af00\">0</span> │ -                 │\n",
       "├─────────────────────┼───────────────────┼────────────┼───────────────────┤\n",
       "│ shared1 (<span style=\"color: #0087ff; text-decoration-color: #0087ff\">Dense</span>)     │ (<span style=\"color: #00d7ff; text-decoration-color: #00d7ff\">None</span>, <span style=\"color: #00af00; text-decoration-color: #00af00\">64</span>)        │        <span style=\"color: #00af00; text-decoration-color: #00af00\">704</span> │ input[<span style=\"color: #00af00; text-decoration-color: #00af00\">0</span>][<span style=\"color: #00af00; text-decoration-color: #00af00\">0</span>]       │\n",
       "├─────────────────────┼───────────────────┼────────────┼───────────────────┤\n",
       "│ shared2 (<span style=\"color: #0087ff; text-decoration-color: #0087ff\">Dense</span>)     │ (<span style=\"color: #00d7ff; text-decoration-color: #00d7ff\">None</span>, <span style=\"color: #00af00; text-decoration-color: #00af00\">128</span>)       │      <span style=\"color: #00af00; text-decoration-color: #00af00\">8,320</span> │ shared1[<span style=\"color: #00af00; text-decoration-color: #00af00\">0</span>][<span style=\"color: #00af00; text-decoration-color: #00af00\">0</span>]     │\n",
       "├─────────────────────┼───────────────────┼────────────┼───────────────────┤\n",
       "│ attrition_hidden    │ (<span style=\"color: #00d7ff; text-decoration-color: #00d7ff\">None</span>, <span style=\"color: #00af00; text-decoration-color: #00af00\">32</span>)        │      <span style=\"color: #00af00; text-decoration-color: #00af00\">4,128</span> │ shared2[<span style=\"color: #00af00; text-decoration-color: #00af00\">0</span>][<span style=\"color: #00af00; text-decoration-color: #00af00\">0</span>]     │\n",
       "│ (<span style=\"color: #0087ff; text-decoration-color: #0087ff\">Dense</span>)             │                   │            │                   │\n",
       "├─────────────────────┼───────────────────┼────────────┼───────────────────┤\n",
       "│ department_hidden   │ (<span style=\"color: #00d7ff; text-decoration-color: #00d7ff\">None</span>, <span style=\"color: #00af00; text-decoration-color: #00af00\">32</span>)        │      <span style=\"color: #00af00; text-decoration-color: #00af00\">4,128</span> │ shared2[<span style=\"color: #00af00; text-decoration-color: #00af00\">0</span>][<span style=\"color: #00af00; text-decoration-color: #00af00\">0</span>]     │\n",
       "│ (<span style=\"color: #0087ff; text-decoration-color: #0087ff\">Dense</span>)             │                   │            │                   │\n",
       "├─────────────────────┼───────────────────┼────────────┼───────────────────┤\n",
       "│ attrition_output    │ (<span style=\"color: #00d7ff; text-decoration-color: #00d7ff\">None</span>, <span style=\"color: #00af00; text-decoration-color: #00af00\">2</span>)         │         <span style=\"color: #00af00; text-decoration-color: #00af00\">66</span> │ attrition_hidden… │\n",
       "│ (<span style=\"color: #0087ff; text-decoration-color: #0087ff\">Dense</span>)             │                   │            │                   │\n",
       "├─────────────────────┼───────────────────┼────────────┼───────────────────┤\n",
       "│ department_output   │ (<span style=\"color: #00d7ff; text-decoration-color: #00d7ff\">None</span>, <span style=\"color: #00af00; text-decoration-color: #00af00\">3</span>)         │         <span style=\"color: #00af00; text-decoration-color: #00af00\">99</span> │ department_hidde… │\n",
       "│ (<span style=\"color: #0087ff; text-decoration-color: #0087ff\">Dense</span>)             │                   │            │                   │\n",
       "└─────────────────────┴───────────────────┴────────────┴───────────────────┘\n",
       "</pre>\n"
      ],
      "text/plain": [
       "┏━━━━━━━━━━━━━━━━━━━━━┳━━━━━━━━━━━━━━━━━━━┳━━━━━━━━━━━━┳━━━━━━━━━━━━━━━━━━━┓\n",
       "┃\u001b[1m \u001b[0m\u001b[1mLayer (type)       \u001b[0m\u001b[1m \u001b[0m┃\u001b[1m \u001b[0m\u001b[1mOutput Shape     \u001b[0m\u001b[1m \u001b[0m┃\u001b[1m \u001b[0m\u001b[1m   Param #\u001b[0m\u001b[1m \u001b[0m┃\u001b[1m \u001b[0m\u001b[1mConnected to     \u001b[0m\u001b[1m \u001b[0m┃\n",
       "┡━━━━━━━━━━━━━━━━━━━━━╇━━━━━━━━━━━━━━━━━━━╇━━━━━━━━━━━━╇━━━━━━━━━━━━━━━━━━━┩\n",
       "│ input (\u001b[38;5;33mInputLayer\u001b[0m)  │ (\u001b[38;5;45mNone\u001b[0m, \u001b[38;5;34m10\u001b[0m)        │          \u001b[38;5;34m0\u001b[0m │ -                 │\n",
       "├─────────────────────┼───────────────────┼────────────┼───────────────────┤\n",
       "│ shared1 (\u001b[38;5;33mDense\u001b[0m)     │ (\u001b[38;5;45mNone\u001b[0m, \u001b[38;5;34m64\u001b[0m)        │        \u001b[38;5;34m704\u001b[0m │ input[\u001b[38;5;34m0\u001b[0m][\u001b[38;5;34m0\u001b[0m]       │\n",
       "├─────────────────────┼───────────────────┼────────────┼───────────────────┤\n",
       "│ shared2 (\u001b[38;5;33mDense\u001b[0m)     │ (\u001b[38;5;45mNone\u001b[0m, \u001b[38;5;34m128\u001b[0m)       │      \u001b[38;5;34m8,320\u001b[0m │ shared1[\u001b[38;5;34m0\u001b[0m][\u001b[38;5;34m0\u001b[0m]     │\n",
       "├─────────────────────┼───────────────────┼────────────┼───────────────────┤\n",
       "│ attrition_hidden    │ (\u001b[38;5;45mNone\u001b[0m, \u001b[38;5;34m32\u001b[0m)        │      \u001b[38;5;34m4,128\u001b[0m │ shared2[\u001b[38;5;34m0\u001b[0m][\u001b[38;5;34m0\u001b[0m]     │\n",
       "│ (\u001b[38;5;33mDense\u001b[0m)             │                   │            │                   │\n",
       "├─────────────────────┼───────────────────┼────────────┼───────────────────┤\n",
       "│ department_hidden   │ (\u001b[38;5;45mNone\u001b[0m, \u001b[38;5;34m32\u001b[0m)        │      \u001b[38;5;34m4,128\u001b[0m │ shared2[\u001b[38;5;34m0\u001b[0m][\u001b[38;5;34m0\u001b[0m]     │\n",
       "│ (\u001b[38;5;33mDense\u001b[0m)             │                   │            │                   │\n",
       "├─────────────────────┼───────────────────┼────────────┼───────────────────┤\n",
       "│ attrition_output    │ (\u001b[38;5;45mNone\u001b[0m, \u001b[38;5;34m2\u001b[0m)         │         \u001b[38;5;34m66\u001b[0m │ attrition_hidden… │\n",
       "│ (\u001b[38;5;33mDense\u001b[0m)             │                   │            │                   │\n",
       "├─────────────────────┼───────────────────┼────────────┼───────────────────┤\n",
       "│ department_output   │ (\u001b[38;5;45mNone\u001b[0m, \u001b[38;5;34m3\u001b[0m)         │         \u001b[38;5;34m99\u001b[0m │ department_hidde… │\n",
       "│ (\u001b[38;5;33mDense\u001b[0m)             │                   │            │                   │\n",
       "└─────────────────────┴───────────────────┴────────────┴───────────────────┘\n"
      ]
     },
     "metadata": {},
     "output_type": "display_data"
    },
    {
     "data": {
      "text/html": [
       "<pre style=\"white-space:pre;overflow-x:auto;line-height:normal;font-family:Menlo,'DejaVu Sans Mono',consolas,'Courier New',monospace\"><span style=\"font-weight: bold\"> Total params: </span><span style=\"color: #00af00; text-decoration-color: #00af00\">17,445</span> (68.14 KB)\n",
       "</pre>\n"
      ],
      "text/plain": [
       "\u001b[1m Total params: \u001b[0m\u001b[38;5;34m17,445\u001b[0m (68.14 KB)\n"
      ]
     },
     "metadata": {},
     "output_type": "display_data"
    },
    {
     "data": {
      "text/html": [
       "<pre style=\"white-space:pre;overflow-x:auto;line-height:normal;font-family:Menlo,'DejaVu Sans Mono',consolas,'Courier New',monospace\"><span style=\"font-weight: bold\"> Trainable params: </span><span style=\"color: #00af00; text-decoration-color: #00af00\">17,445</span> (68.14 KB)\n",
       "</pre>\n"
      ],
      "text/plain": [
       "\u001b[1m Trainable params: \u001b[0m\u001b[38;5;34m17,445\u001b[0m (68.14 KB)\n"
      ]
     },
     "metadata": {},
     "output_type": "display_data"
    },
    {
     "data": {
      "text/html": [
       "<pre style=\"white-space:pre;overflow-x:auto;line-height:normal;font-family:Menlo,'DejaVu Sans Mono',consolas,'Courier New',monospace\"><span style=\"font-weight: bold\"> Non-trainable params: </span><span style=\"color: #00af00; text-decoration-color: #00af00\">0</span> (0.00 B)\n",
       "</pre>\n"
      ],
      "text/plain": [
       "\u001b[1m Non-trainable params: \u001b[0m\u001b[38;5;34m0\u001b[0m (0.00 B)\n"
      ]
     },
     "metadata": {},
     "output_type": "display_data"
    }
   ],
   "source": [
    "# Create the model\n",
    "model = Model(inputs=input_layer, outputs={\n",
    "    'department_output': department_output,\n",
    "    'attrition_output': attrition_output\n",
    "})\n",
    "\n",
    "# Compile the model\n",
    "model.compile(optimizer='adam',\n",
    "              loss={'department_output': 'categorical_crossentropy',\n",
    "                    'attrition_output': 'binary_crossentropy'},\n",
    "              metrics={'department_output': 'accuracy',\n",
    "                       'attrition_output': 'accuracy'})\n",
    "\n",
    "# Summarize the model\n",
    "model.summary()"
   ]
  },
  {
   "cell_type": "code",
   "execution_count": 17,
   "metadata": {},
   "outputs": [
    {
     "name": "stdout",
     "output_type": "stream",
     "text": [
      "Epoch 1/100\n",
      "\u001b[1m35/35\u001b[0m \u001b[32m━━━━━━━━━━━━━━━━━━━━\u001b[0m\u001b[37m\u001b[0m \u001b[1m2s\u001b[0m 13ms/step - attrition_output_accuracy: 0.7465 - attrition_output_loss: 0.6131 - department_output_accuracy: 0.5065 - department_output_loss: 0.9831 - loss: 1.5966 - val_attrition_output_accuracy: 0.8152 - val_attrition_output_loss: 0.4982 - val_department_output_accuracy: 0.6413 - val_department_output_loss: 0.7682 - val_loss: 1.2821\n",
      "Epoch 2/100\n",
      "\u001b[1m35/35\u001b[0m \u001b[32m━━━━━━━━━━━━━━━━━━━━\u001b[0m\u001b[37m\u001b[0m \u001b[1m0s\u001b[0m 4ms/step - attrition_output_accuracy: 0.8502 - attrition_output_loss: 0.4317 - department_output_accuracy: 0.6669 - department_output_loss: 0.7832 - loss: 1.2146 - val_attrition_output_accuracy: 0.8152 - val_attrition_output_loss: 0.4515 - val_department_output_accuracy: 0.6359 - val_department_output_loss: 0.7701 - val_loss: 1.2381\n",
      "Epoch 3/100\n",
      "\u001b[1m35/35\u001b[0m \u001b[32m━━━━━━━━━━━━━━━━━━━━\u001b[0m\u001b[37m\u001b[0m \u001b[1m0s\u001b[0m 4ms/step - attrition_output_accuracy: 0.8425 - attrition_output_loss: 0.4064 - department_output_accuracy: 0.6617 - department_output_loss: 0.7706 - loss: 1.1772 - val_attrition_output_accuracy: 0.8152 - val_attrition_output_loss: 0.4407 - val_department_output_accuracy: 0.6359 - val_department_output_loss: 0.7755 - val_loss: 1.2344\n",
      "Epoch 4/100\n",
      "\u001b[1m35/35\u001b[0m \u001b[32m━━━━━━━━━━━━━━━━━━━━\u001b[0m\u001b[37m\u001b[0m \u001b[1m0s\u001b[0m 5ms/step - attrition_output_accuracy: 0.8439 - attrition_output_loss: 0.3887 - department_output_accuracy: 0.6600 - department_output_loss: 0.7506 - loss: 1.1390 - val_attrition_output_accuracy: 0.8234 - val_attrition_output_loss: 0.4184 - val_department_output_accuracy: 0.6114 - val_department_output_loss: 0.7863 - val_loss: 1.2213\n",
      "Epoch 5/100\n",
      "\u001b[1m35/35\u001b[0m \u001b[32m━━━━━━━━━━━━━━━━━━━━\u001b[0m\u001b[37m\u001b[0m \u001b[1m0s\u001b[0m 5ms/step - attrition_output_accuracy: 0.8454 - attrition_output_loss: 0.3857 - department_output_accuracy: 0.6733 - department_output_loss: 0.7459 - loss: 1.1314 - val_attrition_output_accuracy: 0.8261 - val_attrition_output_loss: 0.4173 - val_department_output_accuracy: 0.6141 - val_department_output_loss: 0.7842 - val_loss: 1.2197\n",
      "Epoch 6/100\n",
      "\u001b[1m35/35\u001b[0m \u001b[32m━━━━━━━━━━━━━━━━━━━━\u001b[0m\u001b[37m\u001b[0m \u001b[1m0s\u001b[0m 4ms/step - attrition_output_accuracy: 0.8578 - attrition_output_loss: 0.3678 - department_output_accuracy: 0.6710 - department_output_loss: 0.7514 - loss: 1.1193 - val_attrition_output_accuracy: 0.8261 - val_attrition_output_loss: 0.4291 - val_department_output_accuracy: 0.6277 - val_department_output_loss: 0.7853 - val_loss: 1.2350\n",
      "Epoch 7/100\n",
      "\u001b[1m35/35\u001b[0m \u001b[32m━━━━━━━━━━━━━━━━━━━━\u001b[0m\u001b[37m\u001b[0m \u001b[1m0s\u001b[0m 5ms/step - attrition_output_accuracy: 0.8599 - attrition_output_loss: 0.3403 - department_output_accuracy: 0.6717 - department_output_loss: 0.7184 - loss: 1.0587 - val_attrition_output_accuracy: 0.8370 - val_attrition_output_loss: 0.3987 - val_department_output_accuracy: 0.6087 - val_department_output_loss: 0.7932 - val_loss: 1.2090\n",
      "Epoch 8/100\n",
      "\u001b[1m35/35\u001b[0m \u001b[32m━━━━━━━━━━━━━━━━━━━━\u001b[0m\u001b[37m\u001b[0m \u001b[1m0s\u001b[0m 4ms/step - attrition_output_accuracy: 0.8578 - attrition_output_loss: 0.3745 - department_output_accuracy: 0.6804 - department_output_loss: 0.7142 - loss: 1.0887 - val_attrition_output_accuracy: 0.8342 - val_attrition_output_loss: 0.4069 - val_department_output_accuracy: 0.6223 - val_department_output_loss: 0.7922 - val_loss: 1.2203\n",
      "Epoch 9/100\n",
      "\u001b[1m35/35\u001b[0m \u001b[32m━━━━━━━━━━━━━━━━━━━━\u001b[0m\u001b[37m\u001b[0m \u001b[1m0s\u001b[0m 4ms/step - attrition_output_accuracy: 0.8754 - attrition_output_loss: 0.3121 - department_output_accuracy: 0.6915 - department_output_loss: 0.6988 - loss: 1.0108 - val_attrition_output_accuracy: 0.8397 - val_attrition_output_loss: 0.4167 - val_department_output_accuracy: 0.6223 - val_department_output_loss: 0.8045 - val_loss: 1.2429\n",
      "Epoch 10/100\n",
      "\u001b[1m35/35\u001b[0m \u001b[32m━━━━━━━━━━━━━━━━━━━━\u001b[0m\u001b[37m\u001b[0m \u001b[1m0s\u001b[0m 5ms/step - attrition_output_accuracy: 0.8792 - attrition_output_loss: 0.2965 - department_output_accuracy: 0.6875 - department_output_loss: 0.6977 - loss: 0.9941 - val_attrition_output_accuracy: 0.8397 - val_attrition_output_loss: 0.3976 - val_department_output_accuracy: 0.6114 - val_department_output_loss: 0.8090 - val_loss: 1.2252\n",
      "Epoch 11/100\n",
      "\u001b[1m35/35\u001b[0m \u001b[32m━━━━━━━━━━━━━━━━━━━━\u001b[0m\u001b[37m\u001b[0m \u001b[1m0s\u001b[0m 4ms/step - attrition_output_accuracy: 0.8798 - attrition_output_loss: 0.3190 - department_output_accuracy: 0.7056 - department_output_loss: 0.6686 - loss: 0.9873 - val_attrition_output_accuracy: 0.8397 - val_attrition_output_loss: 0.3980 - val_department_output_accuracy: 0.6277 - val_department_output_loss: 0.8257 - val_loss: 1.2495\n",
      "Epoch 12/100\n",
      "\u001b[1m35/35\u001b[0m \u001b[32m━━━━━━━━━━━━━━━━━━━━\u001b[0m\u001b[37m\u001b[0m \u001b[1m0s\u001b[0m 4ms/step - attrition_output_accuracy: 0.8806 - attrition_output_loss: 0.3082 - department_output_accuracy: 0.6830 - department_output_loss: 0.6893 - loss: 0.9976 - val_attrition_output_accuracy: 0.8451 - val_attrition_output_loss: 0.4084 - val_department_output_accuracy: 0.6060 - val_department_output_loss: 0.8250 - val_loss: 1.2560\n",
      "Epoch 13/100\n",
      "\u001b[1m35/35\u001b[0m \u001b[32m━━━━━━━━━━━━━━━━━━━━\u001b[0m\u001b[37m\u001b[0m \u001b[1m0s\u001b[0m 5ms/step - attrition_output_accuracy: 0.8941 - attrition_output_loss: 0.2938 - department_output_accuracy: 0.6993 - department_output_loss: 0.6930 - loss: 0.9869 - val_attrition_output_accuracy: 0.8370 - val_attrition_output_loss: 0.4341 - val_department_output_accuracy: 0.6114 - val_department_output_loss: 0.8255 - val_loss: 1.2825\n",
      "Epoch 14/100\n",
      "\u001b[1m35/35\u001b[0m \u001b[32m━━━━━━━━━━━━━━━━━━━━\u001b[0m\u001b[37m\u001b[0m \u001b[1m0s\u001b[0m 4ms/step - attrition_output_accuracy: 0.8800 - attrition_output_loss: 0.2941 - department_output_accuracy: 0.7121 - department_output_loss: 0.6553 - loss: 0.9493 - val_attrition_output_accuracy: 0.8451 - val_attrition_output_loss: 0.4162 - val_department_output_accuracy: 0.6060 - val_department_output_loss: 0.8427 - val_loss: 1.2815\n",
      "Epoch 15/100\n",
      "\u001b[1m35/35\u001b[0m \u001b[32m━━━━━━━━━━━━━━━━━━━━\u001b[0m\u001b[37m\u001b[0m \u001b[1m0s\u001b[0m 4ms/step - attrition_output_accuracy: 0.8751 - attrition_output_loss: 0.3047 - department_output_accuracy: 0.7174 - department_output_loss: 0.6556 - loss: 0.9602 - val_attrition_output_accuracy: 0.8397 - val_attrition_output_loss: 0.4137 - val_department_output_accuracy: 0.5978 - val_department_output_loss: 0.8581 - val_loss: 1.2943\n",
      "Epoch 16/100\n",
      "\u001b[1m35/35\u001b[0m \u001b[32m━━━━━━━━━━━━━━━━━━━━\u001b[0m\u001b[37m\u001b[0m \u001b[1m0s\u001b[0m 5ms/step - attrition_output_accuracy: 0.8803 - attrition_output_loss: 0.3078 - department_output_accuracy: 0.7244 - department_output_loss: 0.6522 - loss: 0.9600 - val_attrition_output_accuracy: 0.8397 - val_attrition_output_loss: 0.4346 - val_department_output_accuracy: 0.6250 - val_department_output_loss: 0.8891 - val_loss: 1.3538\n",
      "Epoch 17/100\n",
      "\u001b[1m35/35\u001b[0m \u001b[32m━━━━━━━━━━━━━━━━━━━━\u001b[0m\u001b[37m\u001b[0m \u001b[1m0s\u001b[0m 7ms/step - attrition_output_accuracy: 0.8839 - attrition_output_loss: 0.2986 - department_output_accuracy: 0.7195 - department_output_loss: 0.6412 - loss: 0.9398 - val_attrition_output_accuracy: 0.8397 - val_attrition_output_loss: 0.4324 - val_department_output_accuracy: 0.5978 - val_department_output_loss: 0.8761 - val_loss: 1.3317\n",
      "Epoch 18/100\n",
      "\u001b[1m35/35\u001b[0m \u001b[32m━━━━━━━━━━━━━━━━━━━━\u001b[0m\u001b[37m\u001b[0m \u001b[1m0s\u001b[0m 4ms/step - attrition_output_accuracy: 0.8836 - attrition_output_loss: 0.2915 - department_output_accuracy: 0.7650 - department_output_loss: 0.6049 - loss: 0.8962 - val_attrition_output_accuracy: 0.8370 - val_attrition_output_loss: 0.4437 - val_department_output_accuracy: 0.6168 - val_department_output_loss: 0.8761 - val_loss: 1.3432\n",
      "Epoch 19/100\n",
      "\u001b[1m35/35\u001b[0m \u001b[32m━━━━━━━━━━━━━━━━━━━━\u001b[0m\u001b[37m\u001b[0m \u001b[1m0s\u001b[0m 5ms/step - attrition_output_accuracy: 0.8986 - attrition_output_loss: 0.2496 - department_output_accuracy: 0.7590 - department_output_loss: 0.5594 - loss: 0.8092 - val_attrition_output_accuracy: 0.8397 - val_attrition_output_loss: 0.4351 - val_department_output_accuracy: 0.5598 - val_department_output_loss: 0.8964 - val_loss: 1.3522\n",
      "Epoch 20/100\n",
      "\u001b[1m35/35\u001b[0m \u001b[32m━━━━━━━━━━━━━━━━━━━━\u001b[0m\u001b[37m\u001b[0m \u001b[1m0s\u001b[0m 4ms/step - attrition_output_accuracy: 0.9101 - attrition_output_loss: 0.2498 - department_output_accuracy: 0.7859 - department_output_loss: 0.5448 - loss: 0.7938 - val_attrition_output_accuracy: 0.8315 - val_attrition_output_loss: 0.4573 - val_department_output_accuracy: 0.5924 - val_department_output_loss: 0.8874 - val_loss: 1.3701\n",
      "Epoch 21/100\n",
      "\u001b[1m35/35\u001b[0m \u001b[32m━━━━━━━━━━━━━━━━━━━━\u001b[0m\u001b[37m\u001b[0m \u001b[1m0s\u001b[0m 4ms/step - attrition_output_accuracy: 0.8981 - attrition_output_loss: 0.2577 - department_output_accuracy: 0.7801 - department_output_loss: 0.5598 - loss: 0.8175 - val_attrition_output_accuracy: 0.8315 - val_attrition_output_loss: 0.4623 - val_department_output_accuracy: 0.5897 - val_department_output_loss: 0.9032 - val_loss: 1.3872\n",
      "Epoch 22/100\n",
      "\u001b[1m35/35\u001b[0m \u001b[32m━━━━━━━━━━━━━━━━━━━━\u001b[0m\u001b[37m\u001b[0m \u001b[1m0s\u001b[0m 5ms/step - attrition_output_accuracy: 0.9034 - attrition_output_loss: 0.2338 - department_output_accuracy: 0.7801 - department_output_loss: 0.5411 - loss: 0.7751 - val_attrition_output_accuracy: 0.8261 - val_attrition_output_loss: 0.4527 - val_department_output_accuracy: 0.6087 - val_department_output_loss: 0.9465 - val_loss: 1.4261\n",
      "Epoch 23/100\n",
      "\u001b[1m35/35\u001b[0m \u001b[32m━━━━━━━━━━━━━━━━━━━━\u001b[0m\u001b[37m\u001b[0m \u001b[1m0s\u001b[0m 4ms/step - attrition_output_accuracy: 0.9067 - attrition_output_loss: 0.2252 - department_output_accuracy: 0.7932 - department_output_loss: 0.5079 - loss: 0.7329 - val_attrition_output_accuracy: 0.8207 - val_attrition_output_loss: 0.4742 - val_department_output_accuracy: 0.5652 - val_department_output_loss: 0.9455 - val_loss: 1.4458\n",
      "Epoch 24/100\n",
      "\u001b[1m35/35\u001b[0m \u001b[32m━━━━━━━━━━━━━━━━━━━━\u001b[0m\u001b[37m\u001b[0m \u001b[1m0s\u001b[0m 5ms/step - attrition_output_accuracy: 0.9130 - attrition_output_loss: 0.2155 - department_output_accuracy: 0.7872 - department_output_loss: 0.5126 - loss: 0.7278 - val_attrition_output_accuracy: 0.8261 - val_attrition_output_loss: 0.4417 - val_department_output_accuracy: 0.5625 - val_department_output_loss: 0.9445 - val_loss: 1.4051\n",
      "Epoch 25/100\n",
      "\u001b[1m35/35\u001b[0m \u001b[32m━━━━━━━━━━━━━━━━━━━━\u001b[0m\u001b[37m\u001b[0m \u001b[1m0s\u001b[0m 5ms/step - attrition_output_accuracy: 0.9093 - attrition_output_loss: 0.2413 - department_output_accuracy: 0.7879 - department_output_loss: 0.5139 - loss: 0.7552 - val_attrition_output_accuracy: 0.8370 - val_attrition_output_loss: 0.4546 - val_department_output_accuracy: 0.5951 - val_department_output_loss: 0.9505 - val_loss: 1.4298\n",
      "Epoch 26/100\n",
      "\u001b[1m35/35\u001b[0m \u001b[32m━━━━━━━━━━━━━━━━━━━━\u001b[0m\u001b[37m\u001b[0m \u001b[1m0s\u001b[0m 4ms/step - attrition_output_accuracy: 0.9279 - attrition_output_loss: 0.1995 - department_output_accuracy: 0.8271 - department_output_loss: 0.4578 - loss: 0.6572 - val_attrition_output_accuracy: 0.8234 - val_attrition_output_loss: 0.4861 - val_department_output_accuracy: 0.5652 - val_department_output_loss: 0.9640 - val_loss: 1.4732\n",
      "Epoch 27/100\n",
      "\u001b[1m35/35\u001b[0m \u001b[32m━━━━━━━━━━━━━━━━━━━━\u001b[0m\u001b[37m\u001b[0m \u001b[1m0s\u001b[0m 4ms/step - attrition_output_accuracy: 0.9139 - attrition_output_loss: 0.2090 - department_output_accuracy: 0.8193 - department_output_loss: 0.4487 - loss: 0.6575 - val_attrition_output_accuracy: 0.8370 - val_attrition_output_loss: 0.4626 - val_department_output_accuracy: 0.5951 - val_department_output_loss: 0.9816 - val_loss: 1.4690\n",
      "Epoch 28/100\n",
      "\u001b[1m35/35\u001b[0m \u001b[32m━━━━━━━━━━━━━━━━━━━━\u001b[0m\u001b[37m\u001b[0m \u001b[1m0s\u001b[0m 5ms/step - attrition_output_accuracy: 0.9182 - attrition_output_loss: 0.2231 - department_output_accuracy: 0.8134 - department_output_loss: 0.4783 - loss: 0.7015 - val_attrition_output_accuracy: 0.8234 - val_attrition_output_loss: 0.4982 - val_department_output_accuracy: 0.6033 - val_department_output_loss: 1.0178 - val_loss: 1.5382\n",
      "Epoch 29/100\n",
      "\u001b[1m35/35\u001b[0m \u001b[32m━━━━━━━━━━━━━━━━━━━━\u001b[0m\u001b[37m\u001b[0m \u001b[1m0s\u001b[0m 5ms/step - attrition_output_accuracy: 0.9179 - attrition_output_loss: 0.2214 - department_output_accuracy: 0.8458 - department_output_loss: 0.4395 - loss: 0.6611 - val_attrition_output_accuracy: 0.8397 - val_attrition_output_loss: 0.4662 - val_department_output_accuracy: 0.5734 - val_department_output_loss: 1.0263 - val_loss: 1.5150\n",
      "Epoch 30/100\n",
      "\u001b[1m35/35\u001b[0m \u001b[32m━━━━━━━━━━━━━━━━━━━━\u001b[0m\u001b[37m\u001b[0m \u001b[1m0s\u001b[0m 4ms/step - attrition_output_accuracy: 0.9180 - attrition_output_loss: 0.2041 - department_output_accuracy: 0.8498 - department_output_loss: 0.4059 - loss: 0.6100 - val_attrition_output_accuracy: 0.8261 - val_attrition_output_loss: 0.4901 - val_department_output_accuracy: 0.5788 - val_department_output_loss: 1.0629 - val_loss: 1.5825\n",
      "Epoch 31/100\n",
      "\u001b[1m35/35\u001b[0m \u001b[32m━━━━━━━━━━━━━━━━━━━━\u001b[0m\u001b[37m\u001b[0m \u001b[1m0s\u001b[0m 7ms/step - attrition_output_accuracy: 0.9172 - attrition_output_loss: 0.2212 - department_output_accuracy: 0.8325 - department_output_loss: 0.4233 - loss: 0.6446 - val_attrition_output_accuracy: 0.8424 - val_attrition_output_loss: 0.4892 - val_department_output_accuracy: 0.5652 - val_department_output_loss: 1.0758 - val_loss: 1.5870\n",
      "Epoch 32/100\n",
      "\u001b[1m35/35\u001b[0m \u001b[32m━━━━━━━━━━━━━━━━━━━━\u001b[0m\u001b[37m\u001b[0m \u001b[1m0s\u001b[0m 4ms/step - attrition_output_accuracy: 0.9219 - attrition_output_loss: 0.1887 - department_output_accuracy: 0.8718 - department_output_loss: 0.3684 - loss: 0.5573 - val_attrition_output_accuracy: 0.8261 - val_attrition_output_loss: 0.5231 - val_department_output_accuracy: 0.5842 - val_department_output_loss: 1.0796 - val_loss: 1.6279\n",
      "Epoch 33/100\n",
      "\u001b[1m35/35\u001b[0m \u001b[32m━━━━━━━━━━━━━━━━━━━━\u001b[0m\u001b[37m\u001b[0m \u001b[1m0s\u001b[0m 5ms/step - attrition_output_accuracy: 0.9348 - attrition_output_loss: 0.1756 - department_output_accuracy: 0.8797 - department_output_loss: 0.3593 - loss: 0.5353 - val_attrition_output_accuracy: 0.8315 - val_attrition_output_loss: 0.4931 - val_department_output_accuracy: 0.5761 - val_department_output_loss: 1.1135 - val_loss: 1.6310\n",
      "Epoch 34/100\n",
      "\u001b[1m35/35\u001b[0m \u001b[32m━━━━━━━━━━━━━━━━━━━━\u001b[0m\u001b[37m\u001b[0m \u001b[1m0s\u001b[0m 5ms/step - attrition_output_accuracy: 0.9276 - attrition_output_loss: 0.1935 - department_output_accuracy: 0.8825 - department_output_loss: 0.3420 - loss: 0.5358 - val_attrition_output_accuracy: 0.8288 - val_attrition_output_loss: 0.5299 - val_department_output_accuracy: 0.5679 - val_department_output_loss: 1.1158 - val_loss: 1.6691\n",
      "Epoch 35/100\n",
      "\u001b[1m35/35\u001b[0m \u001b[32m━━━━━━━━━━━━━━━━━━━━\u001b[0m\u001b[37m\u001b[0m \u001b[1m0s\u001b[0m 5ms/step - attrition_output_accuracy: 0.9232 - attrition_output_loss: 0.2068 - department_output_accuracy: 0.8527 - department_output_loss: 0.3823 - loss: 0.5888 - val_attrition_output_accuracy: 0.8234 - val_attrition_output_loss: 0.5306 - val_department_output_accuracy: 0.5516 - val_department_output_loss: 1.1629 - val_loss: 1.7207\n",
      "Epoch 36/100\n",
      "\u001b[1m35/35\u001b[0m \u001b[32m━━━━━━━━━━━━━━━━━━━━\u001b[0m\u001b[37m\u001b[0m \u001b[1m0s\u001b[0m 4ms/step - attrition_output_accuracy: 0.9393 - attrition_output_loss: 0.1730 - department_output_accuracy: 0.8937 - department_output_loss: 0.3269 - loss: 0.5001 - val_attrition_output_accuracy: 0.8261 - val_attrition_output_loss: 0.5653 - val_department_output_accuracy: 0.5625 - val_department_output_loss: 1.1949 - val_loss: 1.7863\n",
      "Epoch 37/100\n",
      "\u001b[1m35/35\u001b[0m \u001b[32m━━━━━━━━━━━━━━━━━━━━\u001b[0m\u001b[37m\u001b[0m \u001b[1m0s\u001b[0m 4ms/step - attrition_output_accuracy: 0.9349 - attrition_output_loss: 0.1541 - department_output_accuracy: 0.9041 - department_output_loss: 0.3192 - loss: 0.4730 - val_attrition_output_accuracy: 0.8288 - val_attrition_output_loss: 0.5328 - val_department_output_accuracy: 0.5679 - val_department_output_loss: 1.2209 - val_loss: 1.7824\n",
      "Epoch 38/100\n",
      "\u001b[1m35/35\u001b[0m \u001b[32m━━━━━━━━━━━━━━━━━━━━\u001b[0m\u001b[37m\u001b[0m \u001b[1m0s\u001b[0m 4ms/step - attrition_output_accuracy: 0.9519 - attrition_output_loss: 0.1539 - department_output_accuracy: 0.9033 - department_output_loss: 0.3193 - loss: 0.4732 - val_attrition_output_accuracy: 0.8261 - val_attrition_output_loss: 0.5826 - val_department_output_accuracy: 0.5788 - val_department_output_loss: 1.2418 - val_loss: 1.8593\n",
      "Epoch 39/100\n",
      "\u001b[1m35/35\u001b[0m \u001b[32m━━━━━━━━━━━━━━━━━━━━\u001b[0m\u001b[37m\u001b[0m \u001b[1m0s\u001b[0m 4ms/step - attrition_output_accuracy: 0.9338 - attrition_output_loss: 0.1647 - department_output_accuracy: 0.9018 - department_output_loss: 0.2793 - loss: 0.4440 - val_attrition_output_accuracy: 0.8288 - val_attrition_output_loss: 0.5677 - val_department_output_accuracy: 0.5734 - val_department_output_loss: 1.2725 - val_loss: 1.8739\n",
      "Epoch 40/100\n",
      "\u001b[1m35/35\u001b[0m \u001b[32m━━━━━━━━━━━━━━━━━━━━\u001b[0m\u001b[37m\u001b[0m \u001b[1m0s\u001b[0m 5ms/step - attrition_output_accuracy: 0.9452 - attrition_output_loss: 0.1613 - department_output_accuracy: 0.9075 - department_output_loss: 0.2879 - loss: 0.4491 - val_attrition_output_accuracy: 0.8424 - val_attrition_output_loss: 0.5722 - val_department_output_accuracy: 0.5625 - val_department_output_loss: 1.2655 - val_loss: 1.8625\n",
      "Epoch 41/100\n",
      "\u001b[1m35/35\u001b[0m \u001b[32m━━━━━━━━━━━━━━━━━━━━\u001b[0m\u001b[37m\u001b[0m \u001b[1m0s\u001b[0m 4ms/step - attrition_output_accuracy: 0.9454 - attrition_output_loss: 0.1517 - department_output_accuracy: 0.9026 - department_output_loss: 0.2719 - loss: 0.4235 - val_attrition_output_accuracy: 0.8342 - val_attrition_output_loss: 0.5874 - val_department_output_accuracy: 0.5815 - val_department_output_loss: 1.3138 - val_loss: 1.9370\n",
      "Epoch 42/100\n",
      "\u001b[1m35/35\u001b[0m \u001b[32m━━━━━━━━━━━━━━━━━━━━\u001b[0m\u001b[37m\u001b[0m \u001b[1m0s\u001b[0m 4ms/step - attrition_output_accuracy: 0.9603 - attrition_output_loss: 0.1309 - department_output_accuracy: 0.9175 - department_output_loss: 0.2532 - loss: 0.3838 - val_attrition_output_accuracy: 0.8315 - val_attrition_output_loss: 0.6623 - val_department_output_accuracy: 0.5571 - val_department_output_loss: 1.3016 - val_loss: 1.9904\n",
      "Epoch 43/100\n",
      "\u001b[1m35/35\u001b[0m \u001b[32m━━━━━━━━━━━━━━━━━━━━\u001b[0m\u001b[37m\u001b[0m \u001b[1m0s\u001b[0m 4ms/step - attrition_output_accuracy: 0.9381 - attrition_output_loss: 0.1604 - department_output_accuracy: 0.9303 - department_output_loss: 0.2475 - loss: 0.4076 - val_attrition_output_accuracy: 0.8234 - val_attrition_output_loss: 0.5903 - val_department_output_accuracy: 0.5245 - val_department_output_loss: 1.3937 - val_loss: 2.0127\n",
      "Epoch 44/100\n",
      "\u001b[1m35/35\u001b[0m \u001b[32m━━━━━━━━━━━━━━━━━━━━\u001b[0m\u001b[37m\u001b[0m \u001b[1m0s\u001b[0m 5ms/step - attrition_output_accuracy: 0.9476 - attrition_output_loss: 0.1313 - department_output_accuracy: 0.9214 - department_output_loss: 0.2446 - loss: 0.3755 - val_attrition_output_accuracy: 0.8179 - val_attrition_output_loss: 0.6159 - val_department_output_accuracy: 0.5326 - val_department_output_loss: 1.3467 - val_loss: 1.9890\n",
      "Epoch 45/100\n",
      "\u001b[1m35/35\u001b[0m \u001b[32m━━━━━━━━━━━━━━━━━━━━\u001b[0m\u001b[37m\u001b[0m \u001b[1m0s\u001b[0m 7ms/step - attrition_output_accuracy: 0.9578 - attrition_output_loss: 0.1215 - department_output_accuracy: 0.9330 - department_output_loss: 0.2218 - loss: 0.3432 - val_attrition_output_accuracy: 0.8261 - val_attrition_output_loss: 0.6253 - val_department_output_accuracy: 0.5788 - val_department_output_loss: 1.4100 - val_loss: 2.0707\n",
      "Epoch 46/100\n",
      "\u001b[1m35/35\u001b[0m \u001b[32m━━━━━━━━━━━━━━━━━━━━\u001b[0m\u001b[37m\u001b[0m \u001b[1m0s\u001b[0m 4ms/step - attrition_output_accuracy: 0.9568 - attrition_output_loss: 0.1332 - department_output_accuracy: 0.9328 - department_output_loss: 0.2173 - loss: 0.3503 - val_attrition_output_accuracy: 0.8315 - val_attrition_output_loss: 0.6228 - val_department_output_accuracy: 0.5380 - val_department_output_loss: 1.4709 - val_loss: 2.1309\n",
      "Epoch 47/100\n",
      "\u001b[1m35/35\u001b[0m \u001b[32m━━━━━━━━━━━━━━━━━━━━\u001b[0m\u001b[37m\u001b[0m \u001b[1m0s\u001b[0m 4ms/step - attrition_output_accuracy: 0.9504 - attrition_output_loss: 0.1225 - department_output_accuracy: 0.9423 - department_output_loss: 0.2102 - loss: 0.3323 - val_attrition_output_accuracy: 0.8261 - val_attrition_output_loss: 0.6593 - val_department_output_accuracy: 0.5136 - val_department_output_loss: 1.4721 - val_loss: 2.1571\n",
      "Epoch 48/100\n",
      "\u001b[1m35/35\u001b[0m \u001b[32m━━━━━━━━━━━━━━━━━━━━\u001b[0m\u001b[37m\u001b[0m \u001b[1m0s\u001b[0m 4ms/step - attrition_output_accuracy: 0.9598 - attrition_output_loss: 0.1230 - department_output_accuracy: 0.9362 - department_output_loss: 0.2159 - loss: 0.3389 - val_attrition_output_accuracy: 0.8234 - val_attrition_output_loss: 0.6889 - val_department_output_accuracy: 0.5462 - val_department_output_loss: 1.5031 - val_loss: 2.2306\n",
      "Epoch 49/100\n",
      "\u001b[1m35/35\u001b[0m \u001b[32m━━━━━━━━━━━━━━━━━━━━\u001b[0m\u001b[37m\u001b[0m \u001b[1m0s\u001b[0m 4ms/step - attrition_output_accuracy: 0.9642 - attrition_output_loss: 0.1084 - department_output_accuracy: 0.9411 - department_output_loss: 0.1820 - loss: 0.2903 - val_attrition_output_accuracy: 0.8098 - val_attrition_output_loss: 0.6744 - val_department_output_accuracy: 0.4946 - val_department_output_loss: 1.5340 - val_loss: 2.2273\n",
      "Epoch 50/100\n",
      "\u001b[1m35/35\u001b[0m \u001b[32m━━━━━━━━━━━━━━━━━━━━\u001b[0m\u001b[37m\u001b[0m \u001b[1m0s\u001b[0m 4ms/step - attrition_output_accuracy: 0.9632 - attrition_output_loss: 0.1219 - department_output_accuracy: 0.9560 - department_output_loss: 0.1865 - loss: 0.3083 - val_attrition_output_accuracy: 0.8261 - val_attrition_output_loss: 0.6886 - val_department_output_accuracy: 0.5707 - val_department_output_loss: 1.5403 - val_loss: 2.2704\n",
      "Epoch 51/100\n",
      "\u001b[1m35/35\u001b[0m \u001b[32m━━━━━━━━━━━━━━━━━━━━\u001b[0m\u001b[37m\u001b[0m \u001b[1m0s\u001b[0m 5ms/step - attrition_output_accuracy: 0.9724 - attrition_output_loss: 0.0905 - department_output_accuracy: 0.9543 - department_output_loss: 0.1671 - loss: 0.2574 - val_attrition_output_accuracy: 0.8207 - val_attrition_output_loss: 0.6702 - val_department_output_accuracy: 0.5163 - val_department_output_loss: 1.5839 - val_loss: 2.2879\n",
      "Epoch 52/100\n",
      "\u001b[1m35/35\u001b[0m \u001b[32m━━━━━━━━━━━━━━━━━━━━\u001b[0m\u001b[37m\u001b[0m \u001b[1m0s\u001b[0m 4ms/step - attrition_output_accuracy: 0.9493 - attrition_output_loss: 0.1238 - department_output_accuracy: 0.9675 - department_output_loss: 0.1559 - loss: 0.2798 - val_attrition_output_accuracy: 0.8288 - val_attrition_output_loss: 0.8121 - val_department_output_accuracy: 0.5326 - val_department_output_loss: 1.6130 - val_loss: 2.4607\n",
      "Epoch 53/100\n",
      "\u001b[1m35/35\u001b[0m \u001b[32m━━━━━━━━━━━━━━━━━━━━\u001b[0m\u001b[37m\u001b[0m \u001b[1m0s\u001b[0m 4ms/step - attrition_output_accuracy: 0.9666 - attrition_output_loss: 0.1064 - department_output_accuracy: 0.9548 - department_output_loss: 0.1524 - loss: 0.2588 - val_attrition_output_accuracy: 0.8315 - val_attrition_output_loss: 0.7029 - val_department_output_accuracy: 0.5326 - val_department_output_loss: 1.6216 - val_loss: 2.3580\n",
      "Epoch 54/100\n",
      "\u001b[1m35/35\u001b[0m \u001b[32m━━━━━━━━━━━━━━━━━━━━\u001b[0m\u001b[37m\u001b[0m \u001b[1m0s\u001b[0m 4ms/step - attrition_output_accuracy: 0.9636 - attrition_output_loss: 0.0920 - department_output_accuracy: 0.9639 - department_output_loss: 0.1485 - loss: 0.2406 - val_attrition_output_accuracy: 0.8315 - val_attrition_output_loss: 0.7171 - val_department_output_accuracy: 0.5163 - val_department_output_loss: 1.6724 - val_loss: 2.4251\n",
      "Epoch 55/100\n",
      "\u001b[1m35/35\u001b[0m \u001b[32m━━━━━━━━━━━━━━━━━━━━\u001b[0m\u001b[37m\u001b[0m \u001b[1m0s\u001b[0m 6ms/step - attrition_output_accuracy: 0.9800 - attrition_output_loss: 0.0764 - department_output_accuracy: 0.9655 - department_output_loss: 0.1376 - loss: 0.2141 - val_attrition_output_accuracy: 0.8234 - val_attrition_output_loss: 0.7436 - val_department_output_accuracy: 0.5408 - val_department_output_loss: 1.6865 - val_loss: 2.4662\n",
      "Epoch 56/100\n",
      "\u001b[1m35/35\u001b[0m \u001b[32m━━━━━━━━━━━━━━━━━━━━\u001b[0m\u001b[37m\u001b[0m \u001b[1m0s\u001b[0m 4ms/step - attrition_output_accuracy: 0.9813 - attrition_output_loss: 0.0769 - department_output_accuracy: 0.9572 - department_output_loss: 0.1458 - loss: 0.2228 - val_attrition_output_accuracy: 0.8234 - val_attrition_output_loss: 0.7605 - val_department_output_accuracy: 0.5408 - val_department_output_loss: 1.8073 - val_loss: 2.6124\n",
      "Epoch 57/100\n",
      "\u001b[1m35/35\u001b[0m \u001b[32m━━━━━━━━━━━━━━━━━━━━\u001b[0m\u001b[37m\u001b[0m \u001b[1m0s\u001b[0m 4ms/step - attrition_output_accuracy: 0.9808 - attrition_output_loss: 0.0676 - department_output_accuracy: 0.9667 - department_output_loss: 0.1319 - loss: 0.1995 - val_attrition_output_accuracy: 0.8234 - val_attrition_output_loss: 0.8105 - val_department_output_accuracy: 0.5489 - val_department_output_loss: 1.7770 - val_loss: 2.6319\n",
      "Epoch 58/100\n",
      "\u001b[1m35/35\u001b[0m \u001b[32m━━━━━━━━━━━━━━━━━━━━\u001b[0m\u001b[37m\u001b[0m \u001b[1m0s\u001b[0m 4ms/step - attrition_output_accuracy: 0.9802 - attrition_output_loss: 0.0780 - department_output_accuracy: 0.9761 - department_output_loss: 0.1192 - loss: 0.1972 - val_attrition_output_accuracy: 0.8315 - val_attrition_output_loss: 0.8391 - val_department_output_accuracy: 0.5380 - val_department_output_loss: 1.7813 - val_loss: 2.6695\n",
      "Epoch 59/100\n",
      "\u001b[1m35/35\u001b[0m \u001b[32m━━━━━━━━━━━━━━━━━━━━\u001b[0m\u001b[37m\u001b[0m \u001b[1m0s\u001b[0m 4ms/step - attrition_output_accuracy: 0.9882 - attrition_output_loss: 0.0585 - department_output_accuracy: 0.9706 - department_output_loss: 0.1317 - loss: 0.1904 - val_attrition_output_accuracy: 0.8207 - val_attrition_output_loss: 0.8559 - val_department_output_accuracy: 0.5109 - val_department_output_loss: 1.8437 - val_loss: 2.7346\n",
      "Epoch 60/100\n",
      "\u001b[1m35/35\u001b[0m \u001b[32m━━━━━━━━━━━━━━━━━━━━\u001b[0m\u001b[37m\u001b[0m \u001b[1m0s\u001b[0m 5ms/step - attrition_output_accuracy: 0.9794 - attrition_output_loss: 0.0648 - department_output_accuracy: 0.9830 - department_output_loss: 0.1068 - loss: 0.1716 - val_attrition_output_accuracy: 0.8179 - val_attrition_output_loss: 0.8471 - val_department_output_accuracy: 0.5190 - val_department_output_loss: 1.8425 - val_loss: 2.7269\n",
      "Epoch 61/100\n",
      "\u001b[1m35/35\u001b[0m \u001b[32m━━━━━━━━━━━━━━━━━━━━\u001b[0m\u001b[37m\u001b[0m \u001b[1m0s\u001b[0m 4ms/step - attrition_output_accuracy: 0.9909 - attrition_output_loss: 0.0550 - department_output_accuracy: 0.9852 - department_output_loss: 0.0954 - loss: 0.1503 - val_attrition_output_accuracy: 0.8043 - val_attrition_output_loss: 0.8170 - val_department_output_accuracy: 0.5380 - val_department_output_loss: 1.8979 - val_loss: 2.7591\n",
      "Epoch 62/100\n",
      "\u001b[1m35/35\u001b[0m \u001b[32m━━━━━━━━━━━━━━━━━━━━\u001b[0m\u001b[37m\u001b[0m \u001b[1m0s\u001b[0m 4ms/step - attrition_output_accuracy: 0.9817 - attrition_output_loss: 0.0679 - department_output_accuracy: 0.9771 - department_output_loss: 0.1010 - loss: 0.1688 - val_attrition_output_accuracy: 0.8152 - val_attrition_output_loss: 0.8435 - val_department_output_accuracy: 0.5082 - val_department_output_loss: 1.8671 - val_loss: 2.7465\n",
      "Epoch 63/100\n",
      "\u001b[1m35/35\u001b[0m \u001b[32m━━━━━━━━━━━━━━━━━━━━\u001b[0m\u001b[37m\u001b[0m \u001b[1m0s\u001b[0m 5ms/step - attrition_output_accuracy: 0.9862 - attrition_output_loss: 0.0582 - department_output_accuracy: 0.9758 - department_output_loss: 0.1060 - loss: 0.1642 - val_attrition_output_accuracy: 0.8098 - val_attrition_output_loss: 0.8992 - val_department_output_accuracy: 0.5353 - val_department_output_loss: 1.9195 - val_loss: 2.8617\n",
      "Epoch 64/100\n",
      "\u001b[1m35/35\u001b[0m \u001b[32m━━━━━━━━━━━━━━━━━━━━\u001b[0m\u001b[37m\u001b[0m \u001b[1m0s\u001b[0m 4ms/step - attrition_output_accuracy: 0.9846 - attrition_output_loss: 0.0680 - department_output_accuracy: 0.9817 - department_output_loss: 0.0841 - loss: 0.1521 - val_attrition_output_accuracy: 0.7880 - val_attrition_output_loss: 0.8725 - val_department_output_accuracy: 0.5489 - val_department_output_loss: 1.9552 - val_loss: 2.8788\n",
      "Epoch 65/100\n",
      "\u001b[1m35/35\u001b[0m \u001b[32m━━━━━━━━━━━━━━━━━━━━\u001b[0m\u001b[37m\u001b[0m \u001b[1m0s\u001b[0m 4ms/step - attrition_output_accuracy: 0.9801 - attrition_output_loss: 0.0600 - department_output_accuracy: 0.9850 - department_output_loss: 0.0842 - loss: 0.1443 - val_attrition_output_accuracy: 0.8098 - val_attrition_output_loss: 0.8866 - val_department_output_accuracy: 0.5217 - val_department_output_loss: 2.0101 - val_loss: 2.9377\n",
      "Epoch 66/100\n",
      "\u001b[1m35/35\u001b[0m \u001b[32m━━━━━━━━━━━━━━━━━━━━\u001b[0m\u001b[37m\u001b[0m \u001b[1m0s\u001b[0m 5ms/step - attrition_output_accuracy: 0.9918 - attrition_output_loss: 0.0469 - department_output_accuracy: 0.9900 - department_output_loss: 0.0755 - loss: 0.1223 - val_attrition_output_accuracy: 0.8043 - val_attrition_output_loss: 0.8759 - val_department_output_accuracy: 0.4973 - val_department_output_loss: 2.0801 - val_loss: 2.9934\n",
      "Epoch 67/100\n",
      "\u001b[1m35/35\u001b[0m \u001b[32m━━━━━━━━━━━━━━━━━━━━\u001b[0m\u001b[37m\u001b[0m \u001b[1m0s\u001b[0m 5ms/step - attrition_output_accuracy: 0.9884 - attrition_output_loss: 0.0474 - department_output_accuracy: 0.9824 - department_output_loss: 0.0906 - loss: 0.1379 - val_attrition_output_accuracy: 0.8152 - val_attrition_output_loss: 0.9077 - val_department_output_accuracy: 0.5353 - val_department_output_loss: 2.1017 - val_loss: 3.0519\n",
      "Epoch 68/100\n",
      "\u001b[1m35/35\u001b[0m \u001b[32m━━━━━━━━━━━━━━━━━━━━\u001b[0m\u001b[37m\u001b[0m \u001b[1m0s\u001b[0m 4ms/step - attrition_output_accuracy: 0.9910 - attrition_output_loss: 0.0426 - department_output_accuracy: 0.9815 - department_output_loss: 0.0793 - loss: 0.1218 - val_attrition_output_accuracy: 0.8207 - val_attrition_output_loss: 0.9821 - val_department_output_accuracy: 0.5462 - val_department_output_loss: 2.0823 - val_loss: 3.1025\n",
      "Epoch 69/100\n",
      "\u001b[1m35/35\u001b[0m \u001b[32m━━━━━━━━━━━━━━━━━━━━\u001b[0m\u001b[37m\u001b[0m \u001b[1m0s\u001b[0m 4ms/step - attrition_output_accuracy: 0.9893 - attrition_output_loss: 0.0445 - department_output_accuracy: 0.9778 - department_output_loss: 0.0830 - loss: 0.1275 - val_attrition_output_accuracy: 0.7908 - val_attrition_output_loss: 0.9922 - val_department_output_accuracy: 0.4973 - val_department_output_loss: 2.1365 - val_loss: 3.1611\n",
      "Epoch 70/100\n",
      "\u001b[1m35/35\u001b[0m \u001b[32m━━━━━━━━━━━━━━━━━━━━\u001b[0m\u001b[37m\u001b[0m \u001b[1m0s\u001b[0m 5ms/step - attrition_output_accuracy: 0.9978 - attrition_output_loss: 0.0325 - department_output_accuracy: 0.9895 - department_output_loss: 0.0732 - loss: 0.1058 - val_attrition_output_accuracy: 0.8043 - val_attrition_output_loss: 0.9709 - val_department_output_accuracy: 0.5353 - val_department_output_loss: 2.2168 - val_loss: 3.2377\n",
      "Epoch 71/100\n",
      "\u001b[1m35/35\u001b[0m \u001b[32m━━━━━━━━━━━━━━━━━━━━\u001b[0m\u001b[37m\u001b[0m \u001b[1m0s\u001b[0m 4ms/step - attrition_output_accuracy: 0.9962 - attrition_output_loss: 0.0370 - department_output_accuracy: 0.9739 - department_output_loss: 0.0864 - loss: 0.1234 - val_attrition_output_accuracy: 0.8098 - val_attrition_output_loss: 0.9878 - val_department_output_accuracy: 0.5163 - val_department_output_loss: 2.1695 - val_loss: 3.2009\n",
      "Epoch 72/100\n",
      "\u001b[1m35/35\u001b[0m \u001b[32m━━━━━━━━━━━━━━━━━━━━\u001b[0m\u001b[37m\u001b[0m \u001b[1m0s\u001b[0m 4ms/step - attrition_output_accuracy: 0.9962 - attrition_output_loss: 0.0288 - department_output_accuracy: 0.9928 - department_output_loss: 0.0592 - loss: 0.0881 - val_attrition_output_accuracy: 0.7935 - val_attrition_output_loss: 1.0278 - val_department_output_accuracy: 0.5245 - val_department_output_loss: 2.1840 - val_loss: 3.2558\n",
      "Epoch 73/100\n",
      "\u001b[1m35/35\u001b[0m \u001b[32m━━━━━━━━━━━━━━━━━━━━\u001b[0m\u001b[37m\u001b[0m \u001b[1m0s\u001b[0m 4ms/step - attrition_output_accuracy: 0.9929 - attrition_output_loss: 0.0337 - department_output_accuracy: 0.9916 - department_output_loss: 0.0609 - loss: 0.0947 - val_attrition_output_accuracy: 0.8016 - val_attrition_output_loss: 1.0357 - val_department_output_accuracy: 0.5272 - val_department_output_loss: 2.1827 - val_loss: 3.2676\n",
      "Epoch 74/100\n",
      "\u001b[1m35/35\u001b[0m \u001b[32m━━━━━━━━━━━━━━━━━━━━\u001b[0m\u001b[37m\u001b[0m \u001b[1m0s\u001b[0m 4ms/step - attrition_output_accuracy: 0.9951 - attrition_output_loss: 0.0294 - department_output_accuracy: 0.9911 - department_output_loss: 0.0560 - loss: 0.0854 - val_attrition_output_accuracy: 0.7908 - val_attrition_output_loss: 1.0487 - val_department_output_accuracy: 0.5435 - val_department_output_loss: 2.2629 - val_loss: 3.3662\n",
      "Epoch 75/100\n",
      "\u001b[1m35/35\u001b[0m \u001b[32m━━━━━━━━━━━━━━━━━━━━\u001b[0m\u001b[37m\u001b[0m \u001b[1m0s\u001b[0m 4ms/step - attrition_output_accuracy: 0.9954 - attrition_output_loss: 0.0273 - department_output_accuracy: 0.9876 - department_output_loss: 0.0625 - loss: 0.0898 - val_attrition_output_accuracy: 0.7908 - val_attrition_output_loss: 1.0522 - val_department_output_accuracy: 0.5163 - val_department_output_loss: 2.2011 - val_loss: 3.2929\n",
      "Epoch 76/100\n",
      "\u001b[1m35/35\u001b[0m \u001b[32m━━━━━━━━━━━━━━━━━━━━\u001b[0m\u001b[37m\u001b[0m \u001b[1m0s\u001b[0m 4ms/step - attrition_output_accuracy: 0.9945 - attrition_output_loss: 0.0346 - department_output_accuracy: 0.9938 - department_output_loss: 0.0551 - loss: 0.0897 - val_attrition_output_accuracy: 0.7962 - val_attrition_output_loss: 1.0866 - val_department_output_accuracy: 0.5299 - val_department_output_loss: 2.2970 - val_loss: 3.4241\n",
      "Epoch 77/100\n",
      "\u001b[1m35/35\u001b[0m \u001b[32m━━━━━━━━━━━━━━━━━━━━\u001b[0m\u001b[37m\u001b[0m \u001b[1m0s\u001b[0m 5ms/step - attrition_output_accuracy: 0.9937 - attrition_output_loss: 0.0325 - department_output_accuracy: 0.9954 - department_output_loss: 0.0418 - loss: 0.0743 - val_attrition_output_accuracy: 0.7935 - val_attrition_output_loss: 1.0584 - val_department_output_accuracy: 0.5245 - val_department_output_loss: 2.3344 - val_loss: 3.4397\n",
      "Epoch 78/100\n",
      "\u001b[1m35/35\u001b[0m \u001b[32m━━━━━━━━━━━━━━━━━━━━\u001b[0m\u001b[37m\u001b[0m \u001b[1m0s\u001b[0m 4ms/step - attrition_output_accuracy: 0.9945 - attrition_output_loss: 0.0279 - department_output_accuracy: 0.9961 - department_output_loss: 0.0464 - loss: 0.0742 - val_attrition_output_accuracy: 0.7989 - val_attrition_output_loss: 1.0445 - val_department_output_accuracy: 0.5136 - val_department_output_loss: 2.4415 - val_loss: 3.5330\n",
      "Epoch 79/100\n",
      "\u001b[1m35/35\u001b[0m \u001b[32m━━━━━━━━━━━━━━━━━━━━\u001b[0m\u001b[37m\u001b[0m \u001b[1m0s\u001b[0m 4ms/step - attrition_output_accuracy: 0.9965 - attrition_output_loss: 0.0239 - department_output_accuracy: 0.9969 - department_output_loss: 0.0423 - loss: 0.0661 - val_attrition_output_accuracy: 0.7962 - val_attrition_output_loss: 1.1401 - val_department_output_accuracy: 0.5054 - val_department_output_loss: 2.3828 - val_loss: 3.5602\n",
      "Epoch 80/100\n",
      "\u001b[1m35/35\u001b[0m \u001b[32m━━━━━━━━━━━━━━━━━━━━\u001b[0m\u001b[37m\u001b[0m \u001b[1m0s\u001b[0m 4ms/step - attrition_output_accuracy: 0.9973 - attrition_output_loss: 0.0233 - department_output_accuracy: 0.9921 - department_output_loss: 0.0407 - loss: 0.0640 - val_attrition_output_accuracy: 0.8152 - val_attrition_output_loss: 1.1316 - val_department_output_accuracy: 0.5054 - val_department_output_loss: 2.4234 - val_loss: 3.6023\n",
      "Epoch 81/100\n",
      "\u001b[1m35/35\u001b[0m \u001b[32m━━━━━━━━━━━━━━━━━━━━\u001b[0m\u001b[37m\u001b[0m \u001b[1m0s\u001b[0m 7ms/step - attrition_output_accuracy: 0.9981 - attrition_output_loss: 0.0229 - department_output_accuracy: 0.9972 - department_output_loss: 0.0426 - loss: 0.0655 - val_attrition_output_accuracy: 0.8043 - val_attrition_output_loss: 1.2115 - val_department_output_accuracy: 0.5353 - val_department_output_loss: 2.4064 - val_loss: 3.6591\n",
      "Epoch 82/100\n",
      "\u001b[1m35/35\u001b[0m \u001b[32m━━━━━━━━━━━━━━━━━━━━\u001b[0m\u001b[37m\u001b[0m \u001b[1m0s\u001b[0m 5ms/step - attrition_output_accuracy: 0.9984 - attrition_output_loss: 0.0229 - department_output_accuracy: 0.9979 - department_output_loss: 0.0449 - loss: 0.0678 - val_attrition_output_accuracy: 0.7690 - val_attrition_output_loss: 1.0946 - val_department_output_accuracy: 0.5299 - val_department_output_loss: 2.4536 - val_loss: 3.6074\n",
      "Epoch 83/100\n",
      "\u001b[1m35/35\u001b[0m \u001b[32m━━━━━━━━━━━━━━━━━━━━\u001b[0m\u001b[37m\u001b[0m \u001b[1m0s\u001b[0m 4ms/step - attrition_output_accuracy: 0.9966 - attrition_output_loss: 0.0217 - department_output_accuracy: 0.9967 - department_output_loss: 0.0366 - loss: 0.0583 - val_attrition_output_accuracy: 0.7745 - val_attrition_output_loss: 1.1375 - val_department_output_accuracy: 0.5163 - val_department_output_loss: 2.5069 - val_loss: 3.6829\n",
      "Epoch 84/100\n",
      "\u001b[1m35/35\u001b[0m \u001b[32m━━━━━━━━━━━━━━━━━━━━\u001b[0m\u001b[37m\u001b[0m \u001b[1m0s\u001b[0m 4ms/step - attrition_output_accuracy: 0.9957 - attrition_output_loss: 0.0213 - department_output_accuracy: 0.9972 - department_output_loss: 0.0333 - loss: 0.0547 - val_attrition_output_accuracy: 0.7908 - val_attrition_output_loss: 1.2647 - val_department_output_accuracy: 0.5435 - val_department_output_loss: 2.5151 - val_loss: 3.8243\n",
      "Epoch 85/100\n",
      "\u001b[1m35/35\u001b[0m \u001b[32m━━━━━━━━━━━━━━━━━━━━\u001b[0m\u001b[37m\u001b[0m \u001b[1m0s\u001b[0m 5ms/step - attrition_output_accuracy: 0.9963 - attrition_output_loss: 0.0179 - department_output_accuracy: 0.9960 - department_output_loss: 0.0299 - loss: 0.0477 - val_attrition_output_accuracy: 0.7989 - val_attrition_output_loss: 1.2056 - val_department_output_accuracy: 0.5054 - val_department_output_loss: 2.5115 - val_loss: 3.7557\n",
      "Epoch 86/100\n",
      "\u001b[1m35/35\u001b[0m \u001b[32m━━━━━━━━━━━━━━━━━━━━\u001b[0m\u001b[37m\u001b[0m \u001b[1m0s\u001b[0m 4ms/step - attrition_output_accuracy: 0.9979 - attrition_output_loss: 0.0201 - department_output_accuracy: 0.9964 - department_output_loss: 0.0314 - loss: 0.0515 - val_attrition_output_accuracy: 0.8261 - val_attrition_output_loss: 1.3175 - val_department_output_accuracy: 0.5245 - val_department_output_loss: 2.5941 - val_loss: 3.9590\n",
      "Epoch 87/100\n",
      "\u001b[1m35/35\u001b[0m \u001b[32m━━━━━━━━━━━━━━━━━━━━\u001b[0m\u001b[37m\u001b[0m \u001b[1m0s\u001b[0m 5ms/step - attrition_output_accuracy: 0.9991 - attrition_output_loss: 0.0204 - department_output_accuracy: 0.9992 - department_output_loss: 0.0345 - loss: 0.0549 - val_attrition_output_accuracy: 0.8016 - val_attrition_output_loss: 1.2274 - val_department_output_accuracy: 0.5163 - val_department_output_loss: 2.5661 - val_loss: 3.8315\n",
      "Epoch 88/100\n",
      "\u001b[1m35/35\u001b[0m \u001b[32m━━━━━━━━━━━━━━━━━━━━\u001b[0m\u001b[37m\u001b[0m \u001b[1m0s\u001b[0m 5ms/step - attrition_output_accuracy: 0.9976 - attrition_output_loss: 0.0153 - department_output_accuracy: 0.9998 - department_output_loss: 0.0237 - loss: 0.0390 - val_attrition_output_accuracy: 0.8016 - val_attrition_output_loss: 1.2937 - val_department_output_accuracy: 0.5516 - val_department_output_loss: 2.7634 - val_loss: 4.1125\n",
      "Epoch 89/100\n",
      "\u001b[1m35/35\u001b[0m \u001b[32m━━━━━━━━━━━━━━━━━━━━\u001b[0m\u001b[37m\u001b[0m \u001b[1m0s\u001b[0m 5ms/step - attrition_output_accuracy: 0.9960 - attrition_output_loss: 0.0177 - department_output_accuracy: 0.9988 - department_output_loss: 0.0275 - loss: 0.0452 - val_attrition_output_accuracy: 0.8016 - val_attrition_output_loss: 1.2811 - val_department_output_accuracy: 0.5326 - val_department_output_loss: 2.7330 - val_loss: 4.0591\n",
      "Epoch 90/100\n",
      "\u001b[1m35/35\u001b[0m \u001b[32m━━━━━━━━━━━━━━━━━━━━\u001b[0m\u001b[37m\u001b[0m \u001b[1m0s\u001b[0m 4ms/step - attrition_output_accuracy: 0.9986 - attrition_output_loss: 0.0169 - department_output_accuracy: 0.9950 - department_output_loss: 0.0326 - loss: 0.0494 - val_attrition_output_accuracy: 0.8125 - val_attrition_output_loss: 1.3217 - val_department_output_accuracy: 0.5462 - val_department_output_loss: 2.7190 - val_loss: 4.1062\n",
      "Epoch 91/100\n",
      "\u001b[1m35/35\u001b[0m \u001b[32m━━━━━━━━━━━━━━━━━━━━\u001b[0m\u001b[37m\u001b[0m \u001b[1m0s\u001b[0m 5ms/step - attrition_output_accuracy: 0.9969 - attrition_output_loss: 0.0149 - department_output_accuracy: 0.9999 - department_output_loss: 0.0210 - loss: 0.0359 - val_attrition_output_accuracy: 0.7908 - val_attrition_output_loss: 1.2947 - val_department_output_accuracy: 0.5326 - val_department_output_loss: 2.7106 - val_loss: 4.0568\n",
      "Epoch 92/100\n",
      "\u001b[1m35/35\u001b[0m \u001b[32m━━━━━━━━━━━━━━━━━━━━\u001b[0m\u001b[37m\u001b[0m \u001b[1m0s\u001b[0m 5ms/step - attrition_output_accuracy: 0.9975 - attrition_output_loss: 0.0144 - department_output_accuracy: 0.9979 - department_output_loss: 0.0226 - loss: 0.0371 - val_attrition_output_accuracy: 0.7908 - val_attrition_output_loss: 1.2684 - val_department_output_accuracy: 0.5163 - val_department_output_loss: 2.7949 - val_loss: 4.1106\n",
      "Epoch 93/100\n",
      "\u001b[1m35/35\u001b[0m \u001b[32m━━━━━━━━━━━━━━━━━━━━\u001b[0m\u001b[37m\u001b[0m \u001b[1m0s\u001b[0m 7ms/step - attrition_output_accuracy: 0.9990 - attrition_output_loss: 0.0115 - department_output_accuracy: 0.9992 - department_output_loss: 0.0213 - loss: 0.0328 - val_attrition_output_accuracy: 0.7826 - val_attrition_output_loss: 1.3331 - val_department_output_accuracy: 0.4946 - val_department_output_loss: 2.8751 - val_loss: 4.2402\n",
      "Epoch 94/100\n",
      "\u001b[1m35/35\u001b[0m \u001b[32m━━━━━━━━━━━━━━━━━━━━\u001b[0m\u001b[37m\u001b[0m \u001b[1m0s\u001b[0m 4ms/step - attrition_output_accuracy: 0.9992 - attrition_output_loss: 0.0108 - department_output_accuracy: 0.9990 - department_output_loss: 0.0265 - loss: 0.0373 - val_attrition_output_accuracy: 0.7989 - val_attrition_output_loss: 1.3281 - val_department_output_accuracy: 0.5543 - val_department_output_loss: 2.8031 - val_loss: 4.1885\n",
      "Epoch 95/100\n",
      "\u001b[1m35/35\u001b[0m \u001b[32m━━━━━━━━━━━━━━━━━━━━\u001b[0m\u001b[37m\u001b[0m \u001b[1m0s\u001b[0m 4ms/step - attrition_output_accuracy: 0.9985 - attrition_output_loss: 0.0125 - department_output_accuracy: 0.9947 - department_output_loss: 0.0256 - loss: 0.0381 - val_attrition_output_accuracy: 0.8016 - val_attrition_output_loss: 1.3278 - val_department_output_accuracy: 0.5136 - val_department_output_loss: 2.8162 - val_loss: 4.1917\n",
      "Epoch 96/100\n",
      "\u001b[1m35/35\u001b[0m \u001b[32m━━━━━━━━━━━━━━━━━━━━\u001b[0m\u001b[37m\u001b[0m \u001b[1m0s\u001b[0m 5ms/step - attrition_output_accuracy: 0.9990 - attrition_output_loss: 0.0100 - department_output_accuracy: 0.9996 - department_output_loss: 0.0219 - loss: 0.0320 - val_attrition_output_accuracy: 0.7908 - val_attrition_output_loss: 1.4058 - val_department_output_accuracy: 0.5245 - val_department_output_loss: 2.8614 - val_loss: 4.3099\n",
      "Epoch 97/100\n",
      "\u001b[1m35/35\u001b[0m \u001b[32m━━━━━━━━━━━━━━━━━━━━\u001b[0m\u001b[37m\u001b[0m \u001b[1m0s\u001b[0m 4ms/step - attrition_output_accuracy: 1.0000 - attrition_output_loss: 0.0107 - department_output_accuracy: 0.9998 - department_output_loss: 0.0159 - loss: 0.0267 - val_attrition_output_accuracy: 0.7772 - val_attrition_output_loss: 1.3623 - val_department_output_accuracy: 0.5217 - val_department_output_loss: 2.8288 - val_loss: 4.2447\n",
      "Epoch 98/100\n",
      "\u001b[1m35/35\u001b[0m \u001b[32m━━━━━━━━━━━━━━━━━━━━\u001b[0m\u001b[37m\u001b[0m \u001b[1m0s\u001b[0m 5ms/step - attrition_output_accuracy: 0.9987 - attrition_output_loss: 0.0097 - department_output_accuracy: 0.9995 - department_output_loss: 0.0171 - loss: 0.0267 - val_attrition_output_accuracy: 0.7799 - val_attrition_output_loss: 1.3769 - val_department_output_accuracy: 0.5109 - val_department_output_loss: 2.8970 - val_loss: 4.3166\n",
      "Epoch 99/100\n",
      "\u001b[1m35/35\u001b[0m \u001b[32m━━━━━━━━━━━━━━━━━━━━\u001b[0m\u001b[37m\u001b[0m \u001b[1m0s\u001b[0m 5ms/step - attrition_output_accuracy: 0.9989 - attrition_output_loss: 0.0095 - department_output_accuracy: 0.9978 - department_output_loss: 0.0202 - loss: 0.0297 - val_attrition_output_accuracy: 0.8043 - val_attrition_output_loss: 1.4226 - val_department_output_accuracy: 0.5163 - val_department_output_loss: 2.9348 - val_loss: 4.4027\n",
      "Epoch 100/100\n",
      "\u001b[1m35/35\u001b[0m \u001b[32m━━━━━━━━━━━━━━━━━━━━\u001b[0m\u001b[37m\u001b[0m \u001b[1m0s\u001b[0m 4ms/step - attrition_output_accuracy: 0.9992 - attrition_output_loss: 0.0070 - department_output_accuracy: 0.9967 - department_output_loss: 0.0243 - loss: 0.0313 - val_attrition_output_accuracy: 0.8043 - val_attrition_output_loss: 1.4617 - val_department_output_accuracy: 0.5054 - val_department_output_loss: 2.9408 - val_loss: 4.4475\n"
     ]
    },
    {
     "data": {
      "text/plain": [
       "<keras.src.callbacks.history.History at 0x1662ee830>"
      ]
     },
     "execution_count": 17,
     "metadata": {},
     "output_type": "execute_result"
    }
   ],
   "source": [
    "# Train the model\n",
    "model.fit(X_train_scaled,\n",
    "          {'department_output': department_train_encoded,\n",
    "           'attrition_output': attrition_train_encoded},\n",
    "          epochs=100,\n",
    "          batch_size=32,\n",
    "          validation_data=(X_test_scaled, {'department_output': department_test_encoded, 'attrition_output': attrition_test_encoded}))"
   ]
  },
  {
   "cell_type": "code",
   "execution_count": 18,
   "metadata": {},
   "outputs": [
    {
     "name": "stdout",
     "output_type": "stream",
     "text": [
      "\u001b[1m12/12\u001b[0m \u001b[32m━━━━━━━━━━━━━━━━━━━━\u001b[0m\u001b[37m\u001b[0m \u001b[1m0s\u001b[0m 11ms/step - attrition_output_accuracy: 0.7834 - attrition_output_loss: 1.5981 - department_output_accuracy: 0.4921 - department_output_loss: 3.0241 - loss: 4.6291\n"
     ]
    },
    {
     "data": {
      "text/plain": [
       "[4.447486877441406,\n",
       " 2.9408390522003174,\n",
       " 1.4616904258728027,\n",
       " 0.804347813129425,\n",
       " 0.5054348111152649]"
      ]
     },
     "execution_count": 18,
     "metadata": {},
     "output_type": "execute_result"
    }
   ],
   "source": [
    "# Evaluate the model with the testing data\n",
    "test_results = model.evaluate(X_test_scaled, {\n",
    "    'department_output': department_test_encoded,\n",
    "    'attrition_output': attrition_test_encoded\n",
    "})\n",
    "test_results"
   ]
  },
  {
   "cell_type": "code",
   "execution_count": 19,
   "metadata": {},
   "outputs": [
    {
     "name": "stdout",
     "output_type": "stream",
     "text": [
      "Total Loss: 4.447486877441406\n",
      "Attrition Loss: 2.9408390522003174\n",
      "Department Loss: 1.4616904258728027\n",
      "Attrition Accuracy: 0.804347813129425\n",
      "Department Accuracy: 0.5054348111152649\n"
     ]
    }
   ],
   "source": [
    "# Print the accuracy for both department and attrition\n",
    "# Print the model's loss and metrics\n",
    "print(f\"Total Loss: {test_results[0]}\")\n",
    "print(f\"Attrition Loss: {test_results[1]}\")\n",
    "print(f\"Department Loss: {test_results[2]}\")\n",
    "print(f\"Attrition Accuracy: {test_results[3]}\")\n",
    "print(f\"Department Accuracy: {test_results[4]}\")\n"
   ]
  },
  {
   "cell_type": "markdown",
   "metadata": {
    "id": "eGSyfsZfWOQM"
   },
   "source": [
    "# Summary\n",
    "\n",
    "In the provided space below, briefly answer the following questions.\n",
    "\n",
    "1. Is accuracy the best metric to use on this data? Why or why not?\n",
    "\n",
    "2. What activation functions did you choose for your output layers, and why?\n",
    "\n",
    "3. Can you name a few ways that this model might be improved?"
   ]
  },
  {
   "cell_type": "markdown",
   "metadata": {
    "id": "pi9SLpFnWvbF"
   },
   "source": [
    "YOUR ANSWERS HERE\n",
    "\n",
    "1. Not necessarily. Since Attrition and Department may have imbalanced classes, accuracy alone might be misleading. for example if attrition is imbalanced (e.g., 90% “No” and 10% “Yes”), accuracy will be high even if the model never predicts “Yes.”. It might be better to consider F1-score, precision-recall, or AUC-ROC.\n",
    "    \n",
    "2. For Attrition I used sigmoid because it's a binary classification problem (Yes/No). For Department I used softmax because it's a multi-class classification problem (3 departments). \n",
    "\n",
    "3. Here are a few ideas that might help improve the model. \n",
    "- Balance the Data: If attrition is imbalanced, use oversampling (SMOTE) or undersampling.\n",
    "- Improve Feature Engineering: Add more employee-related features or change up the 10 features choosen. \n",
    "- Add Regularization (Dropout/L2): Helps prevent overfitting.\n",
    "- Use Early Stopping: Stops training when performance stops improving.\n",
    "- Try Different Architectures: Test with more or fewer hidden layers to find the best combination. Tune the learning rate, batch size, and network depth\n",
    "- Combine the Attrition columns to a single column since its a binary classification, combine the Department columns to a single column instead of three sperate columns.\n",
    "- Try F1-score or AUC-ROC instead of accuracy.\n"
   ]
  },
  {
   "cell_type": "code",
   "execution_count": null,
   "metadata": {
    "id": "ZuQWjGgGXZ3C"
   },
   "outputs": [],
   "source": []
  }
 ],
 "metadata": {
  "colab": {
   "provenance": []
  },
  "kernelspec": {
   "display_name": "dev",
   "language": "python",
   "name": "python3"
  },
  "language_info": {
   "codemirror_mode": {
    "name": "ipython",
    "version": 3
   },
   "file_extension": ".py",
   "mimetype": "text/x-python",
   "name": "python",
   "nbconvert_exporter": "python",
   "pygments_lexer": "ipython3",
   "version": "3.10.15"
  }
 },
 "nbformat": 4,
 "nbformat_minor": 0
}
